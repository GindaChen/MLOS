{
 "cells": [
  {
   "cell_type": "code",
   "execution_count": 5,
   "metadata": {},
   "outputs": [],
   "source": [
    "import matplotlib.pyplot as plt\n",
    "import numpy as np\n",
    "import pandas as pd"
   ]
  },
  {
   "cell_type": "markdown",
   "metadata": {},
   "source": [
    "# Bayesian Optimization"
   ]
  },
  {
   "cell_type": "markdown",
   "metadata": {},
   "source": [
    "This notebook demonstrates the basic principles of [Bayesian Optimization (BO)](https://en.wikipedia.org/wiki/Bayesian_optimization) and how to use MLOS to perform BO.\n",
    "\n",
    "## Motivation\n",
    "\n",
    "In software performance engineering, the impact different (input) parameters (e.g. buffer size, worker thread count, etc.) can have on the (output) performance of a system for a given workload (input) can be modeled as a multidimensional function - one which we don't know the equation for apriori, but are instead trying to learn through careful sampling of the input space and experimentation (test/benchmark runs) to gather output points.\n",
    "Bayesian optimization is one technique for efficiently selecting the samples in the input space to learn the approximate shape of that function and find its optimum, i.,e. the parameters that lead to the best performance.\n",
    "In this example we use a synthetic (i.e. made-up) function that we can look at directly to stand in for a complex system with unknown characteristics.\n",
    "\n",
    "Bayesian Optimization is a [global optimization](https://en.wikipedia.org/wiki/Global_optimization) strategy, so a way to find the global optimum of a mathematical function that's not necessarily [convex](https://en.wikipedia.org/wiki/Convex_function). BO is a black-box optimization technique, meaning that it requires only function values and no other information like gradients.\n",
    "\n",
    "This is in contrast to other optimization strategies, such as gradient descent or conjugate gradient that require gradients and are only guaranteed to find a local optimum (if the function is assumed to be convex, this is also the global optimum).\n",
    "\n",
    "Finding the global optimum of a general non-convex function is NP-hard, which makes it impossible to provide effective convergence guarantees for any global optimization strategy, including Bayesian Optimization. However, BO has been found to be quite effective in the past."
   ]
  },
  {
   "cell_type": "markdown",
   "metadata": {},
   "source": [
    "## A synthetic example"
   ]
  },
  {
   "cell_type": "markdown",
   "metadata": {},
   "source": [
    "Let's take a simple synthetic example of a one-dimensional function that we assume is unknown.\n",
    "If we actually had access to the function, we could use more efficient techniques using calculus and would not be using Bayesian Optimization."
   ]
  },
  {
   "cell_type": "code",
   "execution_count": 6,
   "metadata": {},
   "outputs": [],
   "source": [
    "# define fake performance function\n",
    "# In an actual application, we would not have access to this function directly.\n",
    "# Instead, we could only measure the outcome by running an experiment, such as timing\n",
    "# a particular run of the system.\n",
    "def f(x):\n",
    "    return (6*x-2)**2*np.sin(12*x-4)"
   ]
  },
  {
   "cell_type": "markdown",
   "metadata": {},
   "source": [
    "In a real use case for global optimization, the function we want to optimize is usually only implicitly defined and very expensive to compute, such as training and evaluating a neural network, or timing the run of a large workload on a distributed database. Given the cost of evaluating the function, our goal is to find an optimum while keeping the number of function evaluations to a minimum.\n",
    "\n",
    "In this synthetic example, we actually know the function, so we can just plot it for illustration purposes:"
   ]
  },
  {
   "cell_type": "code",
   "execution_count": 7,
   "metadata": {},
   "outputs": [
    {
     "data": {
      "text/plain": [
       "Text(0, 0.5, 'Objective (i.e. performance)')"
      ]
     },
     "execution_count": 7,
     "metadata": {},
     "output_type": "execute_result"
    },
    {
     "data": {
      "image/png": "[encoded data removed]",
      "text/plain": [
       "<Figure size 432x288 with 1 Axes>"
      ]
     },
     "metadata": {
      "needs_background": "light"
     },
     "output_type": "display_data"
    }
   ],
   "source": [
    "# define a domain to evaluate\n",
    "line = np.linspace(0, 1)\n",
    "# evaluate function\n",
    "values = f(line)\n",
    "# plot function\n",
    "plt.plot(line, values)\n",
    "plt.xlabel(\"Input (parameter)\")\n",
    "plt.ylabel(\"Objective (i.e. performance)\")"
   ]
  },
  {
   "cell_type": "markdown",
   "metadata": {},
   "source": [
    "Our goal here is to find the global minimum of this function, assuming that we don't have direct access to the formula (given the formula, we could instead calculate the optimum quite precicely using methods from calculus instead). Usually, the function is too expensive to evaluate in such a manner, in particular in higher-dimensional spaces.\n",
    "\n",
    "Now, we use MLOS to construct an OptimizationProblem object that will encapsulate the function and the input space."
   ]
  },
  {
   "cell_type": "code",
   "execution_count": 8,
   "metadata": {},
   "outputs": [],
   "source": [
    "from mlos.Optimizers.OptimizationProblem import OptimizationProblem, Objective"
   ]
  },
  {
   "cell_type": "code",
   "execution_count": 9,
   "metadata": {},
   "outputs": [],
   "source": [
    "from mlos.Optimizers.BayesianOptimizer import BayesianOptimizer"
   ]
  },
  {
   "cell_type": "code",
   "execution_count": 10,
   "metadata": {},
   "outputs": [],
   "source": [
    "from mlos.Spaces import SimpleHypergrid, ContinuousDimension"
   ]
  },
  {
   "cell_type": "code",
   "execution_count": 11,
   "metadata": {},
   "outputs": [],
   "source": [
    "input_space = SimpleHypergrid(\n",
    "    name=\"input\", dimensions=[\n",
    "    ContinuousDimension(name=\"x\", min=0, max=1)\n",
    "])"
   ]
  },
  {
   "cell_type": "code",
   "execution_count": 12,
   "metadata": {},
   "outputs": [],
   "source": [
    "output_space = SimpleHypergrid(\n",
    "    name=\"objective\",\n",
    "    dimensions=[ContinuousDimension(name=\"function_value\", min=-10, max=10)])"
   ]
  },
  {
   "cell_type": "code",
   "execution_count": 13,
   "metadata": {},
   "outputs": [],
   "source": [
    "optimization_problem = OptimizationProblem(\n",
    "    parameter_space=input_space,\n",
    "    objective_space=output_space,\n",
    "    # we want to minimize the function\n",
    "    objectives=[Objective(name=\"function_value\", minimize=True)]\n",
    ")"
   ]
  },
  {
   "cell_type": "code",
   "execution_count": 14,
   "metadata": {},
   "outputs": [],
   "source": [
    "from mlos.Optimizers.OptimizationProblem import OptimizationProblem, Objective\n",
    "from mlos.Optimizers.BayesianOptimizer import BayesianOptimizer\n",
    "from mlos.Spaces import SimpleHypergrid, ContinuousDimension\n",
    "\n",
    "# single continuous input dimension between 0 and 1\n",
    "input_space = SimpleHypergrid(name=\"input\", dimensions=[ContinuousDimension(name=\"x\", min=0, max=1)])\n",
    "# define output space, we might not know the exact ranges\n",
    "output_space = SimpleHypergrid(name=\"objective\",\n",
    "                               dimensions=[ContinuousDimension(name=\"function_value\", min=-10, max=10)])\n",
    "\n",
    "# define optimization problem with input and output space and objective\n",
    "optimization_problem = OptimizationProblem(\n",
    "    parameter_space=input_space,\n",
    "    objective_space=output_space,\n",
    "    # we want to minimize the function\n",
    "    objectives=[Objective(name=\"function_value\", minimize=True)]\n",
    ")"
   ]
  },
  {
   "cell_type": "markdown",
   "metadata": {},
   "source": [
    "The way Bayesian Optimization (in particular what is known as sequential model-based optimization) works is by iterating the following steps:\n",
    "- Evaluate the function at a candidate point x_i (start with a random point x_0), observe f(x_i).\n",
    "- Build / update a **surrogate model** g_i of the objective function (here a Random Forest) using the pairs x_i, f(x_i) that we observed so far.\n",
    "- Pick the next data point to evaluate based on the updated model g_i using a criterion known as **acquisition function**.\n",
    "\n",
    "The idea is that eventually the surrogate model will provide a good approximation of the objective function, but it will be much faster to evaluate (i.e. by predicting with a Random Forest or Gaussian process or another trained machine learning model, instead of running a complex deployment). The acquisition function serves as a means to trade off exploration vs exploitation in collecting new data for building the surrogate model: it picks points that have a low (close to optimum) value of the surrogate model (and so are expected to have a low value of the actual objective). This is the \"exploitation\" of existing knowledge in the model. On the other hand, it also encourages exploring new areas in which there is a lot of uncertainty in the surrogate model, i.e. where we expect the surrogate model not to be very acurate yet."
   ]
  },
  {
   "cell_type": "markdown",
   "metadata": {},
   "source": [
    "This process is coordinated by the ``BayesianOptimizer`` object, which we will use to perform Bayesian Optimization with a random forest surrogate model. Details of this particular method can be found in [Hutter et. al. (2011)](https://www.cs.ubc.ca/~hutter/papers/11-LION5-SMAC.pdf). We're first configuring the model to refit after every iteration and use 10 trees for the random forest:"
   ]
  },
  {
   "cell_type": "code",
   "execution_count": 15,
   "metadata": {},
   "outputs": [],
   "source": [
    "from mlos.Optimizers.BayesianOptimizer import BayesianOptimizer, BayesianOptimizerConfig\n",
    "from mlos.Optimizers.RegressionModels.HomogeneousRandomForestRegressionModel import \\\n",
    "    HomogeneousRandomForestRegressionModelConfig\n",
    "from mlos.Spaces import Point"
   ]
  },
  {
   "cell_type": "code",
   "execution_count": 16,
   "metadata": {},
   "outputs": [],
   "source": [
    "optimizer_config = BayesianOptimizerConfig.DEFAULT"
   ]
  },
  {
   "cell_type": "code",
   "execution_count": 17,
   "metadata": {},
   "outputs": [],
   "source": [
    "# set the fraction of randomly sampled configuration to 10% of suggestions\n",
    "optimizer_config.experiment_designer_config_fraction_random_suggestions = .1"
   ]
  },
  {
   "cell_type": "code",
   "execution_count": 18,
   "metadata": {},
   "outputs": [],
   "source": [
    "# configure the random forest surrogate model\n",
    "random_forest_config = optimizer_config.homogeneous_random_forest_regression_model_config"
   ]
  },
  {
   "cell_type": "code",
   "execution_count": 19,
   "metadata": {},
   "outputs": [],
   "source": [
    "# refit the model after each observation\n",
    "random_forest_config.decision_tree_regression_model_config.n_new_samples_before_refit = 1"
   ]
  },
  {
   "cell_type": "code",
   "execution_count": 20,
   "metadata": {},
   "outputs": [],
   "source": [
    "# Use the best split in trees (not random as in extremely randomized trees)\n",
    "random_forest_config.decision_tree_regression_model_config.splitter = 'best'"
   ]
  },
  {
   "cell_type": "code",
   "execution_count": 21,
   "metadata": {},
   "outputs": [],
   "source": [
    "# right now we're sampling without replacement so we need to subsample\n",
    "# to make the trees different when using the 'best' splitter\n",
    "random_forest_config.samples_fraction_per_estimator = .9"
   ]
  },
  {
   "cell_type": "code",
   "execution_count": 22,
   "metadata": {},
   "outputs": [],
   "source": [
    "# Use 10 trees in the random forest (usually more are better, 10 makes it run pretty quickly)\n",
    "random_forest_config.n_estimators = 10"
   ]
  },
  {
   "cell_type": "code",
   "execution_count": 23,
   "metadata": {},
   "outputs": [],
   "source": [
    "# Set multiplier for the confidence bound\n",
    "optimizer_config.experiment_designer_config.confidence_bound_utility_function_config.alpha = 0.1"
   ]
  },
  {
   "cell_type": "code",
   "execution_count": 24,
   "metadata": {},
   "outputs": [],
   "source": [
    "optimizer = BayesianOptimizer(optimization_problem, optimizer_config)"
   ]
  },
  {
   "cell_type": "markdown",
   "metadata": {},
   "source": [
    "Now, we can run the actual optimization which will carry out the steps outlined above."
   ]
  },
  {
   "cell_type": "code",
   "execution_count": 115,
   "metadata": {},
   "outputs": [],
   "source": []
  },
  {
   "cell_type": "code",
   "execution_count": 48,
   "metadata": {},
   "outputs": [
    {
     "data": {
      "text/plain": [
       "{\"x\": 0.12148466890314358}"
      ]
     },
     "execution_count": 48,
     "metadata": {},
     "output_type": "execute_result"
    }
   ],
   "source": [
    "suggested_value = optimizer.suggest()\n",
    "suggested_value"
   ]
  },
  {
   "cell_type": "code",
   "execution_count": 52,
   "metadata": {},
   "outputs": [
    {
     "data": {
      "text/html": [
       "<div>\n",
       "<style scoped>\n",
       "    .dataframe tbody tr th:only-of-type {\n",
       "        vertical-align: middle;\n",
       "    }\n",
       "\n",
       "    .dataframe tbody tr th {\n",
       "        vertical-align: top;\n",
       "    }\n",
       "\n",
       "    .dataframe thead th {\n",
       "        text-align: right;\n",
       "    }\n",
       "</style>\n",
       "<table border=\"1\" class=\"dataframe\">\n",
       "  <thead>\n",
       "    <tr style=\"text-align: right;\">\n",
       "      <th></th>\n",
       "      <th>x</th>\n",
       "    </tr>\n",
       "  </thead>\n",
       "  <tbody>\n",
       "    <tr>\n",
       "      <th>0</th>\n",
       "      <td>0.121485</td>\n",
       "    </tr>\n",
       "  </tbody>\n",
       "</table>\n",
       "</div>"
      ],
      "text/plain": [
       "          x\n",
       "0  0.121485"
      ]
     },
     "execution_count": 52,
     "metadata": {},
     "output_type": "execute_result"
    }
   ],
   "source": [
    "input_values_df = suggested_value.to_dataframe()\n",
    "input_values_df"
   ]
  },
  {
   "cell_type": "code",
   "execution_count": 57,
   "metadata": {},
   "outputs": [
    {
     "data": {
      "text/plain": [
       "-0.9114899682138834"
      ]
     },
     "execution_count": 57,
     "metadata": {},
     "output_type": "execute_result"
    }
   ],
   "source": [
    "target_value = f(suggested_value['x'])\n",
    "target_value"
   ]
  },
  {
   "cell_type": "code",
   "execution_count": 61,
   "metadata": {},
   "outputs": [
    {
     "name": "stdout",
     "output_type": "stream",
     "text": [
      "{\"x\": 0.12148466890314358} -0.9114899682138834\n"
     ]
    }
   ],
   "source": [
    "print(suggested_value, target_value)"
   ]
  },
  {
   "cell_type": "code",
   "execution_count": 62,
   "metadata": {},
   "outputs": [
    {
     "data": {
      "text/html": [
       "<div>\n",
       "<style scoped>\n",
       "    .dataframe tbody tr th:only-of-type {\n",
       "        vertical-align: middle;\n",
       "    }\n",
       "\n",
       "    .dataframe tbody tr th {\n",
       "        vertical-align: top;\n",
       "    }\n",
       "\n",
       "    .dataframe thead th {\n",
       "        text-align: right;\n",
       "    }\n",
       "</style>\n",
       "<table border=\"1\" class=\"dataframe\">\n",
       "  <thead>\n",
       "    <tr style=\"text-align: right;\">\n",
       "      <th></th>\n",
       "      <th>function_value</th>\n",
       "    </tr>\n",
       "  </thead>\n",
       "  <tbody>\n",
       "    <tr>\n",
       "      <th>0</th>\n",
       "      <td>-0.91149</td>\n",
       "    </tr>\n",
       "  </tbody>\n",
       "</table>\n",
       "</div>"
      ],
      "text/plain": [
       "   function_value\n",
       "0        -0.91149"
      ]
     },
     "execution_count": 62,
     "metadata": {},
     "output_type": "execute_result"
    }
   ],
   "source": [
    "target_values_df = pd.DataFrame({'function_value': [target_value]})\n",
    "target_values_df"
   ]
  },
  {
   "cell_type": "code",
   "execution_count": 65,
   "metadata": {},
   "outputs": [],
   "source": [
    "optimizer.register(input_values_df, target_values_df)"
   ]
  },
  {
   "cell_type": "code",
   "execution_count": null,
   "metadata": {},
   "outputs": [],
   "source": []
  },
  {
   "cell_type": "code",
   "execution_count": 96,
   "metadata": {},
   "outputs": [
    {
     "name": "stdout",
     "output_type": "stream",
     "text": [
      "{\"x\": 0.31656378059407153} -0.0020235459279526104\n",
      "{\"x\": 0.07906292332908083} -0.2100005402715506\n",
      "{\"x\": 0.17298355724985937} -0.8684306649455227\n",
      "{\"x\": 0.7318077075427596} -5.702424004941238\n",
      "{\"x\": 0.6442092126185854} -1.9325491310147216\n",
      "{\"x\": 0.04563138702463754} 0.9113728137133482\n",
      "{\"x\": 0.7475952063307032} -5.972394634729195\n",
      "{\"x\": 0.8298558930797612} -2.8332261375636225\n",
      "{\"x\": 0.6482991396699392} -2.1270368365596934\n",
      "{\"x\": 0.31629407295504963} -0.0021222939730524953\n",
      "{\"x\": 0.6219744951504368} -0.9494579319654518\n",
      "{\"x\": 0.7084697995836913} -4.954090869117528\n",
      "{\"x\": 0.6802286311517242} -3.694031428671016\n",
      "{\"x\": 0.6823971415691008} -3.7987143083263213\n",
      "{\"x\": 0.8298572229112684} -2.8331070923211277\n"
     ]
    }
   ],
   "source": [
    "def run_optimization(optimizer):\n",
    "    # suggest new value from optimizer\n",
    "    suggested_value = optimizer.suggest()\n",
    "    input_values_df = suggested_value.to_dataframe()\n",
    "    # suggested value are dictionary-like, keys are input space parameter names\n",
    "    # evaluate target function\n",
    "    target_value = f(suggested_value['x'])\n",
    "    print(suggested_value, target_value)\n",
    "    \n",
    "    # build dataframes to \n",
    "    target_values_df = pd.DataFrame({'function_value': [target_value]})\n",
    "\n",
    "    optimizer.register(input_values_df, target_values_df)\n",
    "\n",
    "# run for some iterations\n",
    "n_iterations = 15\n",
    "for i in range(n_iterations):\n",
    "    run_optimization(optimizer)"
   ]
  },
  {
   "cell_type": "markdown",
   "metadata": {},
   "source": [
    "You can see that the hit rate is not always increasing, and that is for two reasons: first, the optimizer keeps exploring parts of the space in which there is uncertainty. Second, by default the BayesianOptimizer picks a fraction of points at random to increase exploration. This fraction is set as ``optimizer_config.experiment_designer_config_fraction_random_suggestions = .1`` above."
   ]
  },
  {
   "cell_type": "markdown",
   "metadata": {},
   "source": [
    "After 15 iterations, the model is likely to have captured the general shape, but probably not have found the actual optimum:"
   ]
  },
  {
   "cell_type": "code",
   "execution_count": 99,
   "metadata": {},
   "outputs": [],
   "source": [
    "surrogate_predictions = optimizer.predict(pd.DataFrame({'x': line})).get_dataframe()\n",
    "surrogate_predictions;"
   ]
  },
  {
   "cell_type": "code",
   "execution_count": 102,
   "metadata": {},
   "outputs": [],
   "source": [
    "? optimizer.experiment_designer.utility_function"
   ]
  },
  {
   "cell_type": "code",
   "execution_count": 100,
   "metadata": {},
   "outputs": [
    {
     "data": {
      "text/plain": [
       "<matplotlib.legend.Legend at 0x7f9ba49040f0>"
      ]
     },
     "execution_count": 100,
     "metadata": {},
     "output_type": "execute_result"
    },
    {
     "data": {
      "image/png": "[encoded data removed]",
      "text/plain": [
       "<Figure size 432x288 with 2 Axes>"
      ]
     },
     "metadata": {
      "needs_background": "light"
     },
     "output_type": "display_data"
    }
   ],
   "source": [
    "# evaluate the surrogate\n",
    "surrogate_predictions = optimizer.predict(pd.DataFrame({'x': line})).get_dataframe()\n",
    "# plot observations\n",
    "feature_values, target_values = optimizer.get_all_observations()\n",
    "plt.scatter(feature_values, target_values, label='observed points')\n",
    "plt.colorbar()\n",
    "# plot true function (usually unknown)\n",
    "plt.plot(line, values, label='true function')\n",
    "# plot the surrogate\n",
    "std = np.sqrt(surrogate_predictions['predicted_value_variance'])\n",
    "value = surrogate_predictions['predicted_value']\n",
    "plt.plot(line, value, label='surrogate predictions g')\n",
    "plt.fill_between(line, value - std, value + std, alpha=.1)\n",
    "plt.plot(line, -optimizer.experiment_designer.utility_function(pd.DataFrame({'x': line})), ':', label='utility_function')\n",
    "plt.ylabel(\"Objective function f (performance)\")\n",
    "plt.xlabel(\"Input variable\")\n",
    "plt.legend()"
   ]
  },
  {
   "cell_type": "markdown",
   "metadata": {},
   "source": [
    "We can find the best value according to the current surrogate with the ``optimum`` method:"
   ]
  },
  {
   "cell_type": "code",
   "execution_count": 110,
   "metadata": {},
   "outputs": [
    {
     "data": {
      "text/plain": [
       "{'function_value': -5.972394634729195, 'x': 0.7475952063307032}"
      ]
     },
     "execution_count": 110,
     "metadata": {},
     "output_type": "execute_result"
    }
   ],
   "source": [
    "optimizer.optimum()"
   ]
  },
  {
   "cell_type": "code",
   "execution_count": null,
   "metadata": {},
   "outputs": [],
   "source": []
  },
  {
   "cell_type": "markdown",
   "metadata": {},
   "source": [
    "We can run more iterations to improve the surrogate model and the optimum that is found:"
   ]
  },
  {
   "cell_type": "code",
   "execution_count": 111,
   "metadata": {},
   "outputs": [
    {
     "name": "stdout",
     "output_type": "stream",
     "text": [
      "{\"x\": 0.984055874243879} 15.228187831032725\n",
      "{\"x\": 0.42499546282270906} 0.26955606917773345\n",
      "{\"x\": 0.7869487775209555} -5.515037453912862\n",
      "{\"x\": 0.8922982143028683} 4.631525742957609\n",
      "{\"x\": 0.8183104788264591} -3.7852683196289343\n",
      "{\"x\": 0.7437801469828375} -5.927774484503676\n",
      "{\"x\": 0.7821514572968408} -5.668611879134209\n",
      "{\"x\": 0.6586533095234974} -2.6309834873717204\n",
      "{\"x\": 0.7976282461502002} -5.068245911500044\n",
      "{\"x\": 0.7918520011951784} -5.328022665307593\n",
      "{\"x\": 0.8006661392655483} -4.914367787359663\n",
      "{\"x\": 0.02625743488986032} 1.7549590432574285\n",
      "{\"x\": 0.747383644512325} -5.97028599446428\n",
      "{\"x\": 0.30004889932358547} -0.015509507574520636\n",
      "{\"x\": 0.5592105223016869} 0.7674624412786044\n",
      "{\"x\": 0.8023956390355645} -4.821434434578577\n",
      "{\"x\": 0.8047816577976984} -4.686872852898083\n",
      "{\"x\": 0.9140358579150677} 7.682798440589983\n",
      "{\"x\": 0.8574713366654669} 0.06399473381848296\n",
      "{\"x\": 0.9078085739430671} 6.811154370622298\n",
      "{\"x\": 0.8443939867174844} -1.409358067693543\n",
      "{\"x\": 0.29813054647596393} -0.018290287313096742\n",
      "{\"x\": 0.3289085041970098} -3.740840305304724e-05\n",
      "{\"x\": 0.7428088432087335} -5.914221653683278\n",
      "{\"x\": 0.606597507874575} -0.3686754656311653\n",
      "{\"x\": 0.2729627577401579} -0.08695290519333289\n",
      "{\"x\": 0.8182268233663204} -3.7915614071536194\n",
      "{\"x\": 0.7069111885571012} -4.892494102113093\n",
      "{\"x\": 0.6388690176137481} -1.6839352593121253\n",
      "{\"x\": 0.8353768754526484} -2.3209487545713525\n",
      "{\"x\": 0.8694187808422393} 1.544443881640766\n",
      "{\"x\": 0.710342684742439} -5.026473172811599\n",
      "{\"x\": 0.7463650867348417} -5.959527221869285\n",
      "{\"x\": 0.7382660063350054} -5.839443524416255\n",
      "{\"x\": 0.7380665667348517} -5.835740546937315\n",
      "{\"x\": 0.7427275228527764} -5.913047346654611\n",
      "{\"x\": 0.1925573145025784} -0.7084392878786037\n",
      "{\"x\": 0.533694916187498} 0.9715539592336929\n",
      "{\"x\": 0.7223552834779365} -5.442867681595627\n",
      "{\"x\": 0.6387771348990131} -1.6797167857917354\n",
      "{\"x\": 0.7269825373319174} -5.5781864655858895\n",
      "{\"x\": 0.18225458377416992} -0.7977195040015809\n",
      "{\"x\": 0.7816746881085617} -5.682302756320189\n",
      "{\"x\": 0.7829707080366584} -5.644425786343071\n",
      "{\"x\": 0.7564907396248504} -6.020433886180566\n",
      "{\"x\": 0.7659240876036599} -5.97959192217058\n",
      "{\"x\": 0.5234997925890296} 0.9862747170521399\n",
      "{\"x\": 0.720248429946122} -5.376342347683253\n",
      "{\"x\": 0.64125330336864} -1.7941236608446165\n",
      "{\"x\": 0.7004555206917388} -4.62528706092429\n"
     ]
    }
   ],
   "source": [
    "# run for more iterations\n",
    "n_iterations = 50\n",
    "for i in range(n_iterations):\n",
    "    run_optimization(optimizer)"
   ]
  },
  {
   "cell_type": "markdown",
   "metadata": {},
   "source": [
    "There is some improvement in the optimum:"
   ]
  },
  {
   "cell_type": "code",
   "execution_count": 112,
   "metadata": {},
   "outputs": [
    {
     "data": {
      "text/plain": [
       "{'function_value': -6.020433886180566, 'x': 0.7564907396248504}"
      ]
     },
     "execution_count": 112,
     "metadata": {},
     "output_type": "execute_result"
    }
   ],
   "source": [
    "optimizer.optimum()"
   ]
  },
  {
   "cell_type": "markdown",
   "metadata": {},
   "source": [
    "We can now visualize the surrogate model and optimization process again. The points are colored according to the iteration number, with dark blue points being early in the process and yellow points being later. You can see that at the end of the optimization, the points start to cluster around the optimum."
   ]
  },
  {
   "cell_type": "code",
   "execution_count": 113,
   "metadata": {},
   "outputs": [
    {
     "data": {
      "text/plain": [
       "<matplotlib.legend.Legend at 0x7f9ba4fcf550>"
      ]
     },
     "execution_count": 113,
     "metadata": {},
     "output_type": "execute_result"
    },
    {
     "data": {
      "image/png": "[encoded data removed]",
      "text/plain": [
       "<Figure size 432x288 with 2 Axes>"
      ]
     },
     "metadata": {
      "needs_background": "light"
     },
     "output_type": "display_data"
    }
   ],
   "source": [
    "# evaluate the surrogate\n",
    "surrogate_predictions = optimizer.predict(pd.DataFrame({'x': line})).get_dataframe()\n",
    "# plot observations\n",
    "feature_values, target_values = optimizer.get_all_observations()\n",
    "plt.scatter(feature_values, target_values, label='observed points')\n",
    " \n",
    "# plot true function (usually unknown)\n",
    "plt.plot(line, values, label='true function')\n",
    "# plot the surrogate\n",
    "std = np.sqrt(surrogate_predictions['predicted_value_variance'])\n",
    "value = surrogate_predictions['predicted_value']\n",
    "plt.plot(line, value, label='surrogate predictions g')\n",
    "plt.fill_between(line, value - std, value + std, alpha=.1)\n",
    "\n",
    "plt.plot(line, -optimizer.experiment_designer.utility_function(pd.DataFrame({'x': line})), ':', label='utility_function')\n",
    "ax = plt.gca()\n",
    "ax.set_ylabel(\"Objective function f\")\n",
    "ax.set_xlabel(\"Input variable\")\n",
    "bins_axes = ax.twinx()\n",
    "bins_axes.set_ylabel(\"Points sampled\")\n",
    "feature_values.hist(bins=20, ax=bins_axes, alpha=.3, color='k', label=\"count of querry points\")\n",
    "plt.legend()"
   ]
  },
  {
   "cell_type": "markdown",
   "metadata": {},
   "source": [
    "# Going further:\n",
    "\n",
    "1) Plot the optimum as a function of iterations. How long does it take for the optimization to converge? Is that stable over several random restarts?\n",
    "\n",
    "2) Does changing the search to a purely random search (setting ``optimizer_config.experiment_designer_config_fraction_random_suggestions = 1``) change how long the optimization takes to find the optimum?"
   ]
  },
  {
   "cell_type": "markdown",
   "metadata": {},
   "source": [
    "## Answer\n",
    "\n",
    "Setting the proper value for random suggestion has a visible effect on how fast the optimizer converges.\n",
    "```python\n",
    "optimizer_config.experiment_designer_config_fraction_random_suggestions = 1\n",
    "```\n",
    "\n",
    "Compare the first figure both exercise, we see that \n",
    "- with `random_suggest = 1`, the optimizer convergence iteration range from 20 ~ 60. It exhibit more uncertainty than the previous one.\n",
    "\n",
    "- with `random_suggest = 0.1`, the optimizer largely converge within 20 iterations. One run converge around the 35-th iteration, but the y-value before converge is pretty close to the optimal.\n",
    "\n",
    "\n",
    "Noticed that the speed of the optimization process become a little bit faster when `random_suggest = 1`. Why is that? We haven't look at the source code and understand why, just yet."
   ]
  },
  {
   "cell_type": "markdown",
   "metadata": {},
   "source": [
    "![](./BayesianOptimization-image/1-1.png)\n",
    "\n",
    "Figure 1. Optimum value of the Bayesian optimizer as iteration increases, when `random_suggest = 0.1`"
   ]
  },
  {
   "cell_type": "markdown",
   "metadata": {},
   "source": [
    "![](./BayesianOptimization-image/2-1.png)\n",
    "\n",
    "Figure 2. Optimum value of the Bayesian optimizer as iteration increases, when `random_suggest = 1`"
   ]
  },
  {
   "cell_type": "markdown",
   "metadata": {},
   "source": []
  },
  {
   "cell_type": "markdown",
   "metadata": {},
   "source": []
  },
  {
   "cell_type": "markdown",
   "metadata": {},
   "source": [
    "# Exercise Code \n",
    "\n",
    "(Take a long time to rum...)"
   ]
  },
  {
   "cell_type": "markdown",
   "metadata": {},
   "source": [
    "## Exercise (1) \n",
    "\n",
    "Plot the optimum as a function of iterations. How long does it take for the optimization to converge? Is that stable over several random restarts?\n",
    "\n"
   ]
  },
  {
   "cell_type": "markdown",
   "metadata": {},
   "source": [
    "**Question**: How does it take that the model has \"converged\"? I don't quite know how to judge when the optimization process is converged -- say in 10 iteration, the optimum value stays $<1e-6$?"
   ]
  },
  {
   "cell_type": "code",
   "execution_count": null,
   "metadata": {},
   "outputs": [],
   "source": [
    "optimums = []"
   ]
  },
  {
   "cell_type": "code",
   "execution_count": 145,
   "metadata": {},
   "outputs": [],
   "source": [
    "def new_optimizer(): \n",
    "    # Clear the optimizer values\n",
    "    optimizer = BayesianOptimizer(optimization_problem, optimizer_config)\n",
    "    return optimizer"
   ]
  },
  {
   "cell_type": "code",
   "execution_count": 28,
   "metadata": {},
   "outputs": [],
   "source": [
    "def run_once(optimizer, N=10):\n",
    "    # Run the optimization once and return the change of optimum values\n",
    "    optims = []\n",
    "    for i in range(N):\n",
    "        suggested_value = optimizer.suggest()\n",
    "        input_values_df = suggested_value.to_dataframe()\n",
    "        target_value = f(suggested_value['x'])\n",
    "        target_values_df = pd.DataFrame({\n",
    "            'function_value': [target_value]})\n",
    "        optimizer.register(input_values_df, target_values_df)\n",
    "        opt = optimizer.optimum()\n",
    "        optims.append(opt)\n",
    "    return optims"
   ]
  },
  {
   "cell_type": "code",
   "execution_count": 177,
   "metadata": {
    "scrolled": true
   },
   "outputs": [],
   "source": [
    "for i in range(5):\n",
    "    optimizer = new_optimizer()\n",
    "    opts = run_once(optimizer, N=50)\n",
    "    optimums.append((opts, optimizer))"
   ]
  },
  {
   "cell_type": "code",
   "execution_count": 193,
   "metadata": {},
   "outputs": [
    {
     "data": {
      "text/plain": [
       "Text(0.5, 1.0, 'Optimal Value by iteraion (random_suggest = 0.1)')"
      ]
     },
     "execution_count": 193,
     "metadata": {},
     "output_type": "execute_result"
    },
    {
     "data": {
      "image/png": "[encoded data removed]",
      "text/plain": [
       "<Figure size 432x288 with 1 Axes>"
      ]
     },
     "metadata": {
      "needs_background": "light"
     },
     "output_type": "display_data"
    }
   ],
   "source": [
    "for opts, _ in optimums:\n",
    "    x = [i for i in range(len(opts))]\n",
    "    y = [i[\"function_value\"] for i in opts]\n",
    "    plt.plot(x, y)\n",
    "    ax = plt.gca()\n",
    "    ax.set_ylabel(\"Optimal Value in the optimizer\")\n",
    "    ax.set_xlabel(\"Iteration Number\")\n",
    "plt.title('Optimal Value by iteraion (random_suggest = 0.1)')"
   ]
  },
  {
   "cell_type": "code",
   "execution_count": null,
   "metadata": {},
   "outputs": [],
   "source": []
  },
  {
   "cell_type": "markdown",
   "metadata": {},
   "source": [
    "## Exercise (2) \n",
    "\n",
    "Does changing the search to a purely random search (setting ``optimizer_config.experiment_designer_config_fraction_random_suggestions = 1``) change how long the optimization takes to find the optimum?"
   ]
  },
  {
   "cell_type": "code",
   "execution_count": 25,
   "metadata": {},
   "outputs": [],
   "source": [
    "def new_random_optimizer(): \n",
    "    # Get an optimizer setting the random suggestion = 1\n",
    "    optimizer_config = BayesianOptimizerConfig.DEFAULT\n",
    "    \n",
    "    optimizer_config.experiment_designer_config_fraction_random_suggestions = 1\n",
    "    \n",
    "    random_forest_config = optimizer_config.homogeneous_random_forest_regression_model_config\n",
    "    random_forest_config.decision_tree_regression_model_config.n_new_samples_before_refit = 1\n",
    "    random_forest_config.decision_tree_regression_model_config.splitter = 'best'\n",
    "    random_forest_config.samples_fraction_per_estimator = .9\n",
    "    random_forest_config.n_estimators = 10\n",
    "    optimizer_config.experiment_designer_config.confidence_bound_utility_function_config.alpha = 0.1\n",
    "    optimizer = BayesianOptimizer(optimization_problem, optimizer_config)\n",
    "    return optimizer"
   ]
  },
  {
   "cell_type": "code",
   "execution_count": 26,
   "metadata": {},
   "outputs": [],
   "source": [
    "random_optimums = []"
   ]
  },
  {
   "cell_type": "code",
   "execution_count": 33,
   "metadata": {},
   "outputs": [],
   "source": [
    "for i in range(3):\n",
    "    optimizer = new_random_optimizer()\n",
    "    opts = run_once(optimizer, N=50)\n",
    "    random_optimums.append((opts, optimizer))"
   ]
  },
  {
   "cell_type": "code",
   "execution_count": 35,
   "metadata": {},
   "outputs": [
    {
     "data": {
      "text/plain": [
       "Text(0.5, 1.0, 'Optimal Value by iteraion (random_suggest = 1)')"
      ]
     },
     "execution_count": 35,
     "metadata": {},
     "output_type": "execute_result"
    },
    {
     "data": {
      "image/png": "[encoded data removed]",
      "text/plain": [
       "<Figure size 432x288 with 1 Axes>"
      ]
     },
     "metadata": {
      "needs_background": "light"
     },
     "output_type": "display_data"
    }
   ],
   "source": [
    "for opts, _ in random_optimums:\n",
    "    x = [i for i in range(len(opts))]\n",
    "    y = [i[\"function_value\"] for i in opts]\n",
    "    plt.plot(x, y)\n",
    "    ax = plt.gca()\n",
    "    ax.set_ylabel(\"Optimal Value in the optimizer\")\n",
    "    ax.set_xlabel(\"Iteration Number\")\n",
    "plt.title('Optimal Value by iteraion (random_suggest = 1)')"
   ]
  },
  {
   "cell_type": "code",
   "execution_count": null,
   "metadata": {},
   "outputs": [],
   "source": []
  },
  {
   "cell_type": "code",
   "execution_count": null,
   "metadata": {},
   "outputs": [],
   "source": []
  }
 ],
 "metadata": {
  "kernelspec": {
   "display_name": "Python 3",
   "language": "python",
   "name": "python3"
  },
  "language_info": {
   "codemirror_mode": {
    "name": "ipython",
    "version": 3
   },
   "file_extension": ".py",
   "mimetype": "text/x-python",
   "name": "python",
   "nbconvert_exporter": "python",
   "pygments_lexer": "ipython3",
   "version": "3.6.12"
  }
 },
 "nbformat": 4,
 "nbformat_minor": 4
}
