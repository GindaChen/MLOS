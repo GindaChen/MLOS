{
 "cells": [
  {
   "cell_type": "markdown",
   "metadata": {},
   "source": [
    "# Optimizing Smart Cache with Bayesian Optimization\n",
    "\n",
    "The goal of this notebook is to optimize SmartCache using Bayesian Optimization approach.\n",
    "\n",
    "We're using a sequential model-based optimization approach, that consists of the following loop:\n",
    "1. Get suggested config from optimizer,\n",
    "2. Apply suggested config to ``SmartCache``,\n",
    "3. Execute a fixed workload,\n",
    "4. Collect the metrics from ``SmartCache``,\n",
    "5. Register an observation with the optimizer.\n"
   ]
  },
  {
   "cell_type": "code",
   "execution_count": 21,
   "metadata": {},
   "outputs": [],
   "source": [
    "# import the required classes and tools\n",
    "import grpc\n",
    "import pandas as pd\n",
    "import logging\n",
    "\n",
    "from mlos.Grpc.BayesianOptimizerFactory import BayesianOptimizerFactory\n",
    "from mlos.Logger import create_logger\n",
    "\n",
    "from mlos.Examples.SmartCache import HitRateMonitor, SmartCache, SmartCacheWorkloadGenerator, SmartCacheWorkloadLauncher\n",
    "from mlos.Mlos.SDK import MlosExperiment\n",
    "from mlos.Optimizers.OptimizationProblem import OptimizationProblem, Objective\n",
    "from mlos.Spaces import Point, SimpleHypergrid, ContinuousDimension\n",
    "\n",
    "# The optimizer will be in a remote process via grpc, we pick the port here:\n",
    "grpc_port = 50051"
   ]
  },
  {
   "cell_type": "markdown",
   "metadata": {},
   "source": [
    "Launch the optimizer service in a different process:"
   ]
  },
  {
   "cell_type": "code",
   "execution_count": 22,
   "metadata": {},
   "outputs": [],
   "source": [
    "import subprocess\n",
    "optimizer_microservice = subprocess.Popen(f\"start_optimizer_microservice launch --port {grpc_port}\", shell=True)"
   ]
  },
  {
   "cell_type": "markdown",
   "metadata": {},
   "source": [
    "Now the optimizer service that runs the surrogate model and suggests new points is started in the background.\n",
    "Next, we instantiate an object that connects to it over grpc using the ``BayesianOptimizerFactory``."
   ]
  },
  {
   "cell_type": "code",
   "execution_count": 23,
   "metadata": {},
   "outputs": [],
   "source": [
    "logger = create_logger('Optimizing Smart Cache', logging_level=logging.WARN)\n",
    "optimizer_service_grpc_channel = grpc.insecure_channel(f'localhost:{grpc_port}')\n",
    "bayesian_optimizer_factory = BayesianOptimizerFactory(grpc_channel=optimizer_service_grpc_channel, logger=logger)"
   ]
  },
  {
   "cell_type": "markdown",
   "metadata": {},
   "source": [
    "# The optimization problem"
   ]
  },
  {
   "cell_type": "markdown",
   "metadata": {},
   "source": [
    "Then we can instantiate our optimization problem. We want to optimize the configuration of the ``SmartCache`` component that contains two implementations: an LRU (least recently used) cache and an MRU cache (most recently used).\n",
    "The ``SmartCache`` component has two parameters that we can adjust, the type of cache and the cache size. We are using some synthetic workloads for the cache and try to find what the optimum configuration for each workload is.\n",
    "\n",
    "Here, we measure 'optimum' by the number of cache hits. Another option would be to measure runtime; however, this is a toy example with a trivial workload and there is likely substantial runtime difference.\n",
    "The parameter search space is declared in ``SmartCache.parameter_search_space``:"
   ]
  },
  {
   "cell_type": "code",
   "execution_count": 24,
   "metadata": {},
   "outputs": [
    {
     "data": {
      "text/plain": [
       "smart_cache_config\n",
       "implementation: [LRU, MRU]\n",
       "lru_cache_config.cache_size: {1, 2, 3, ... , 4096}\n",
       "mru_cache_config.cache_size: {1, 2, 3, ... , 4096}"
      ]
     },
     "execution_count": 24,
     "metadata": {},
     "output_type": "execute_result"
    }
   ],
   "source": [
    "SmartCache.parameter_search_space"
   ]
  },
  {
   "cell_type": "markdown",
   "metadata": {},
   "source": [
    "The optimization problem is constructed using this parameter space as the input to optimize, and defines a single continuous objective, 'hit_rate' between 0 and 1."
   ]
  },
  {
   "cell_type": "code",
   "execution_count": 72,
   "metadata": {},
   "outputs": [],
   "source": [
    "# Optimization Problem\n",
    "#\n",
    "optimization_problem = OptimizationProblem(\n",
    "    parameter_space=SmartCache.parameter_search_space,\n",
    "    objective_space=SimpleHypergrid(\n",
    "        name=\"objectives\", \n",
    "        dimensions=[ContinuousDimension(name=\"hit_rate\", min=0, max=1)]),\n",
    "    objectives=[Objective(name=\"hit_rate\", minimize=False)]\n",
    ")\n",
    "\n",
    "# create an optimizer proxy that connects to the remote optimizer via grpc:\n",
    "optimizer = bayesian_optimizer_factory.create_remote_optimizer(\n",
    "    optimization_problem=optimization_problem,\n",
    "#     optimizer_config=optimizer_config\n",
    ")\n"
   ]
  },
  {
   "cell_type": "markdown",
   "metadata": {},
   "source": [
    "# Defining workloads\n",
    "Now we can instantiate our workloads and stand up the MLOS infrastructure, both of which are orchestrated by``SmartCacheWorkloadLauncher``. The MLOS infrastructure consists of the MlosAgent and a communication channel, which are available to both the ``SmartCacheWorkloadGenerator`` and the ``SmartCache``.\n",
    "The ``SmartCacheWorkloadLauncher`` launches workloads in ``SmartCacheWorkloadGenerator`` in a separate thread, which will actually generate and run the workloads for the smart cache.\n",
    "The SmartCacheWorkloadLauncher also connects the ``SmartCacheWorkLloadGenerator`` to the optimization problem via a ``MlosAgent`` that will consume the configurations."
   ]
  },
  {
   "cell_type": "code",
   "execution_count": 73,
   "metadata": {},
   "outputs": [],
   "source": [
    "workload_launcher = SmartCacheWorkloadLauncher(logger=logger)\n",
    "mlos_agent = workload_launcher.mlos_agent"
   ]
  },
  {
   "cell_type": "markdown",
   "metadata": {},
   "source": [
    "We set up the agent to consume configurations for the ``SmartCacheWorkloadGenerator``, and we configure the workload to be sequential keys from a range from 0 to 2048."
   ]
  },
  {
   "cell_type": "code",
   "execution_count": 74,
   "metadata": {},
   "outputs": [],
   "source": [
    "mlos_agent.set_configuration(\n",
    "    component_type=SmartCacheWorkloadGenerator,\n",
    "    new_config_values=Point(\n",
    "        workload_type='cyclical_key_from_range',\n",
    "        cyclical_key_from_range_config=Point(\n",
    "            min=0,\n",
    "            range_width=2048\n",
    "        )\n",
    "    )\n",
    ")"
   ]
  },
  {
   "cell_type": "markdown",
   "metadata": {},
   "source": [
    "# Launching the experiment (measurement)\n",
    "Now we build the experiment, which collects hit-rate statistics from the ``SmartCacheWorkloadGenerator`` via the ``HitRateMonitor``. This architecture reflects the native architecture for the C++ interface in which communication is done via shared memory between MLOS and the worker."
   ]
  },
  {
   "cell_type": "code",
   "execution_count": 75,
   "metadata": {},
   "outputs": [],
   "source": [
    "hit_rate_monitor = HitRateMonitor()\n",
    "smart_cache_experiment = MlosExperiment(\n",
    "    smart_component_types=[SmartCache],\n",
    "    telemetry_aggregators=[hit_rate_monitor]\n",
    ")\n",
    "mlos_agent.start_experiment(smart_cache_experiment)"
   ]
  },
  {
   "cell_type": "markdown",
   "metadata": {},
   "source": [
    "# Performing the optimization\n",
    "Now that we have all the pieces in place, we can iterate our main optimization loop.\n",
    "Our workload will run in the same process as this notebook, but in a separate thread, which we block on.\n",
    "In a real example, the workload might run completely independent of our optimization procedure.\n",
    "\n",
    "We run the optimization for 20 iterations, in each of which we obtain a new configuration from the optimizer (that interfaces the remote optimizer service).\n",
    "The configuration is passed to ``SmartCacheWorkloadGenerator`` via the ``MlosAgent``, after which we start a blocking workload for 0.2 seconds.\n",
    "Then, the hit-rate (our objective) is read from the ``HitRateMonitor`` and the suggested configuration together with the resulting hit-rate are passed to the optimizer."
   ]
  },
  {
   "cell_type": "code",
   "execution_count": 106,
   "metadata": {
    "scrolled": true
   },
   "outputs": [
    {
     "name": "stdout",
     "output_type": "stream",
     "text": [
      "[1/100] current_config: {\"implementation\": \"MRU\", \"mru_cache_config.cache_size\": 2706}, hit_rate: 0.8060054940034096\n",
      "[2/100] current_config: {\"implementation\": \"MRU\", \"mru_cache_config.cache_size\": 787}, hit_rate: 0.343256423368276\n",
      "[3/100] current_config: {\"implementation\": \"LRU\", \"lru_cache_config.cache_size\": 2279}, hit_rate: 0.9278212448041228\n",
      "[4/100] current_config: {\"implementation\": \"LRU\", \"lru_cache_config.cache_size\": 2102.0}, hit_rate: 0.9351385589885942\n",
      "[5/100] current_config: {\"implementation\": \"LRU\", \"lru_cache_config.cache_size\": 2107.0}, hit_rate: 0.9332768619295864\n",
      "[6/100] current_config: {\"implementation\": \"MRU\", \"mru_cache_config.cache_size\": 1299}, hit_rate: 0.5821776504537434\n",
      "[7/100] current_config: {\"implementation\": \"MRU\", \"mru_cache_config.cache_size\": 2655}, hit_rate: 0.9302262196807636\n",
      "[8/100] current_config: {\"implementation\": \"LRU\", \"lru_cache_config.cache_size\": 2082.0}, hit_rate: 0.8323921761328756\n",
      "[9/100] current_config: {\"implementation\": \"LRU\", \"lru_cache_config.cache_size\": 2106.0}, hit_rate: 0.9293403256993741\n",
      "[10/100] current_config: {\"implementation\": \"LRU\", \"lru_cache_config.cache_size\": 2095.0}, hit_rate: 0.930686702544059\n",
      "[11/100] current_config: {\"implementation\": \"LRU\", \"lru_cache_config.cache_size\": 2548}, hit_rate: 0.9208716482528061\n",
      "[12/100] current_config: {\"implementation\": \"MRU\", \"mru_cache_config.cache_size\": 3859}, hit_rate: 0.9128584801330585\n",
      "[13/100] current_config: {\"implementation\": \"LRU\", \"lru_cache_config.cache_size\": 2099.0}, hit_rate: 0.9328150116480394\n",
      "[14/100] current_config: {\"implementation\": \"MRU\", \"mru_cache_config.cache_size\": 236}, hit_rate: 0.10820517551264341\n",
      "[15/100] current_config: {\"implementation\": \"MRU\", \"mru_cache_config.cache_size\": 3228}, hit_rate: 0.8220523069057214\n",
      "[16/100] current_config: {\"implementation\": \"LRU\", \"lru_cache_config.cache_size\": 2117.0}, hit_rate: 0.9285614622600613\n",
      "[17/100] current_config: {\"implementation\": \"LRU\", \"lru_cache_config.cache_size\": 2095.0}, hit_rate: 0.9366904695682498\n",
      "[18/100] current_config: {\"implementation\": \"LRU\", \"lru_cache_config.cache_size\": 2113.0}, hit_rate: 0.9331221630822218\n",
      "[19/100] current_config: {\"implementation\": \"LRU\", \"lru_cache_config.cache_size\": 2105.0}, hit_rate: 0.9328568618473262\n",
      "[20/100] current_config: {\"implementation\": \"MRU\", \"mru_cache_config.cache_size\": 2777}, hit_rate: 0.887817703774769\n",
      "[21/100] current_config: {\"implementation\": \"LRU\", \"lru_cache_config.cache_size\": 2046.0}, hit_rate: 4.142502069535003e-10\n",
      "[22/100] current_config: {\"implementation\": \"MRU\", \"mru_cache_config.cache_size\": 1899}, hit_rate: 0.8558075870216736\n",
      "[23/100] current_config: {\"implementation\": \"LRU\", \"lru_cache_config.cache_size\": 2048.0}, hit_rate: 0.9369166795029442\n",
      "[24/100] current_config: {\"implementation\": \"LRU\", \"lru_cache_config.cache_size\": 3606}, hit_rate: 0.9315599518803783\n",
      "[25/100] current_config: {\"implementation\": \"LRU\", \"lru_cache_config.cache_size\": 2041.0}, hit_rate: 4.1493775916392623e-10\n",
      "[26/100] current_config: {\"implementation\": \"LRU\", \"lru_cache_config.cache_size\": 2043.0}, hit_rate: 4.152823918541186e-10\n",
      "[27/100] current_config: {\"implementation\": \"LRU\", \"lru_cache_config.cache_size\": 2045.0}, hit_rate: 4.212299913979655e-10\n",
      "[28/100] current_config: {\"implementation\": \"LRU\", \"lru_cache_config.cache_size\": 2042.0}, hit_rate: 4.690431517499797e-10\n",
      "[29/100] current_config: {\"implementation\": \"MRU\", \"mru_cache_config.cache_size\": 3189}, hit_rate: 0.9368252205584298\n",
      "[30/100] current_config: {\"implementation\": \"LRU\", \"lru_cache_config.cache_size\": 1318}, hit_rate: 5.73065902250392e-10\n",
      "[31/100] current_config: {\"implementation\": \"MRU\", \"mru_cache_config.cache_size\": 1752}, hit_rate: 0.7855188192640294\n",
      "[32/100] current_config: {\"implementation\": \"LRU\", \"lru_cache_config.cache_size\": 2050.0}, hit_rate: 0.9205986120295973\n",
      "[33/100] current_config: {\"implementation\": \"MRU\", \"mru_cache_config.cache_size\": 3843}, hit_rate: 0.9316695582566505\n",
      "[34/100] current_config: {\"implementation\": \"LRU\", \"lru_cache_config.cache_size\": 2049.0}, hit_rate: 0.9323601294691737\n",
      "[35/100] current_config: {\"implementation\": \"LRU\", \"lru_cache_config.cache_size\": 1817}, hit_rate: 5.133470223237437e-10\n",
      "[36/100] current_config: {\"implementation\": \"LRU\", \"lru_cache_config.cache_size\": 3094}, hit_rate: 0.9333051095863059\n",
      "[37/100] current_config: {\"implementation\": \"LRU\", \"lru_cache_config.cache_size\": 2038.0}, hit_rate: 4.1841004166593723e-10\n",
      "[38/100] current_config: {\"implementation\": \"LRU\", \"lru_cache_config.cache_size\": 2046.0}, hit_rate: 4.2571306920999867e-10\n",
      "[39/100] current_config: {\"implementation\": \"MRU\", \"mru_cache_config.cache_size\": 277}, hit_rate: 0.11605415868168749\n",
      "[40/100] current_config: {\"implementation\": \"LRU\", \"lru_cache_config.cache_size\": 357}, hit_rate: 4.494382020451963e-10\n",
      "[41/100] current_config: {\"implementation\": \"MRU\", \"mru_cache_config.cache_size\": 2554}, hit_rate: 0.9363836858964252\n",
      "[42/100] current_config: {\"implementation\": \"LRU\", \"lru_cache_config.cache_size\": 2055.0}, hit_rate: 0.9297306570619409\n",
      "[43/100] current_config: {\"implementation\": \"MRU\", \"mru_cache_config.cache_size\": 2931.0}, hit_rate: 0.8945579982549268\n",
      "[44/100] current_config: {\"implementation\": \"LRU\", \"lru_cache_config.cache_size\": 2056.0}, hit_rate: 0.9374713766696953\n",
      "[45/100] current_config: {\"implementation\": \"LRU\", \"lru_cache_config.cache_size\": 2066.0}, hit_rate: 0.9316627181443604\n",
      "[46/100] current_config: {\"implementation\": \"LRU\", \"lru_cache_config.cache_size\": 2059.0}, hit_rate: 0.9356925299106449\n",
      "[47/100] current_config: {\"implementation\": \"MRU\", \"mru_cache_config.cache_size\": 646}, hit_rate: 0.2855877795523882\n",
      "[48/100] current_config: {\"implementation\": \"MRU\", \"mru_cache_config.cache_size\": 2356}, hit_rate: 0.9335410176553238\n",
      "[49/100] current_config: {\"implementation\": \"MRU\", \"mru_cache_config.cache_size\": 4080}, hit_rate: 0.9264948675641915\n",
      "[50/100] current_config: {\"implementation\": \"LRU\", \"lru_cache_config.cache_size\": 2048.0}, hit_rate: 0.9335841224564281\n",
      "[51/100] current_config: {\"implementation\": \"LRU\", \"lru_cache_config.cache_size\": 2063.0}, hit_rate: 0.9339120333042721\n",
      "[52/100] current_config: {\"implementation\": \"MRU\", \"mru_cache_config.cache_size\": 2165}, hit_rate: 0.9294328440517734\n",
      "[53/100] current_config: {\"implementation\": \"LRU\", \"lru_cache_config.cache_size\": 3396}, hit_rate: 0.935353535355576\n",
      "[54/100] current_config: {\"implementation\": \"LRU\", \"lru_cache_config.cache_size\": 2057.0}, hit_rate: 0.9250558056162383\n",
      "[55/100] current_config: {\"implementation\": \"LRU\", \"lru_cache_config.cache_size\": 2048.0}, hit_rate: 0.8351710261702076\n",
      "[56/100] current_config: {\"implementation\": \"LRU\", \"lru_cache_config.cache_size\": 219}, hit_rate: 3.2383419678632314e-10\n",
      "[57/100] current_config: {\"implementation\": \"LRU\", \"lru_cache_config.cache_size\": 2053.0}, hit_rate: 0.9274530641187583\n",
      "[58/100] current_config: {\"implementation\": \"LRU\", \"lru_cache_config.cache_size\": 2066.0}, hit_rate: 0.9319917646300062\n",
      "[59/100] current_config: {\"implementation\": \"LRU\", \"lru_cache_config.cache_size\": 2054.0}, hit_rate: 0.9251051380535709\n",
      "[60/100] current_config: {\"implementation\": \"LRU\", \"lru_cache_config.cache_size\": 3452}, hit_rate: 0.9280115294060244\n",
      "[61/100] current_config: {\"implementation\": \"MRU\", \"mru_cache_config.cache_size\": 3261.0}, hit_rate: 0.8429568284761171\n",
      "[62/100] current_config: {\"implementation\": \"MRU\", \"mru_cache_config.cache_size\": 1382}, hit_rate: 0.6022677715000945\n",
      "[63/100] current_config: {\"implementation\": \"LRU\", \"lru_cache_config.cache_size\": 3956}, hit_rate: 0.9279456777986861\n",
      "[64/100] current_config: {\"implementation\": \"MRU\", \"mru_cache_config.cache_size\": 3247.0}, hit_rate: 0.9347493790225224\n",
      "[65/100] current_config: {\"implementation\": \"MRU\", \"mru_cache_config.cache_size\": 975}, hit_rate: 0.43024036528600507\n",
      "[66/100] current_config: {\"implementation\": \"MRU\", \"mru_cache_config.cache_size\": 3290.0}, hit_rate: 0.9089939566339764\n",
      "[67/100] current_config: {\"implementation\": \"MRU\", \"mru_cache_config.cache_size\": 3797}, hit_rate: 0.9107741907414816\n",
      "[68/100] current_config: {\"implementation\": \"MRU\", \"mru_cache_config.cache_size\": 3250.0}, hit_rate: 0.8711625566261222\n",
      "[69/100] current_config: {\"implementation\": \"MRU\", \"mru_cache_config.cache_size\": 3290.0}, hit_rate: 0.9256543362280591\n"
     ]
    },
    {
     "name": "stdout",
     "output_type": "stream",
     "text": [
      "[70/100] current_config: {\"implementation\": \"MRU\", \"mru_cache_config.cache_size\": 3296.0}, hit_rate: 0.9310924935254167\n",
      "[71/100] current_config: {\"implementation\": \"LRU\", \"lru_cache_config.cache_size\": 456}, hit_rate: 5.336179292776852e-10\n",
      "[72/100] current_config: {\"implementation\": \"MRU\", \"mru_cache_config.cache_size\": 3265.0}, hit_rate: 0.9338287560602964\n",
      "[73/100] current_config: {\"implementation\": \"MRU\", \"mru_cache_config.cache_size\": 3222.0}, hit_rate: 0.9341161331853268\n",
      "[74/100] current_config: {\"implementation\": \"LRU\", \"lru_cache_config.cache_size\": 3954}, hit_rate: 0.9039399624810535\n",
      "[75/100] current_config: {\"implementation\": \"LRU\", \"lru_cache_config.cache_size\": 3759}, hit_rate: 0.8035303146773283\n",
      "[76/100] current_config: {\"implementation\": \"MRU\", \"mru_cache_config.cache_size\": 3248.0}, hit_rate: 0.9347978350864439\n",
      "[77/100] current_config: {\"implementation\": \"MRU\", \"mru_cache_config.cache_size\": 3292.0}, hit_rate: 0.9197020192150676\n",
      "[78/100] current_config: {\"implementation\": \"LRU\", \"lru_cache_config.cache_size\": 1386}, hit_rate: 5.903187717884776e-10\n",
      "[79/100] current_config: {\"implementation\": \"MRU\", \"mru_cache_config.cache_size\": 3210.0}, hit_rate: 0.9161755075345377\n",
      "[80/100] current_config: {\"implementation\": \"MRU\", \"mru_cache_config.cache_size\": 3260.0}, hit_rate: 0.9220284778831178\n",
      "[81/100] current_config: {\"implementation\": \"MRU\", \"mru_cache_config.cache_size\": 324}, hit_rate: 0.13102119469313242\n",
      "[82/100] current_config: {\"implementation\": \"LRU\", \"lru_cache_config.cache_size\": 1832}, hit_rate: 4.786979413696995e-10\n",
      "[83/100] current_config: {\"implementation\": \"LRU\", \"lru_cache_config.cache_size\": 3550}, hit_rate: 0.7840345882332559\n",
      "[84/100] current_config: {\"implementation\": \"MRU\", \"mru_cache_config.cache_size\": 1852.0}, hit_rate: 0.8330069580503726\n",
      "[85/100] current_config: {\"implementation\": \"LRU\", \"lru_cache_config.cache_size\": 3498}, hit_rate: 0.9253725904629461\n",
      "[86/100] current_config: {\"implementation\": \"MRU\", \"mru_cache_config.cache_size\": 3257.0}, hit_rate: 0.9231836765341441\n",
      "[87/100] current_config: {\"implementation\": \"MRU\", \"mru_cache_config.cache_size\": 3254.0}, hit_rate: 0.9289209731742991\n",
      "[88/100] current_config: {\"implementation\": \"MRU\", \"mru_cache_config.cache_size\": 2673.0}, hit_rate: 0.9238038544562912\n",
      "[89/100] current_config: {\"implementation\": \"MRU\", \"mru_cache_config.cache_size\": 3260.0}, hit_rate: 0.7898245974161633\n",
      "[90/100] current_config: {\"implementation\": \"MRU\", \"mru_cache_config.cache_size\": 3256.0}, hit_rate: 0.9292426755137768\n",
      "[91/100] current_config: {\"implementation\": \"MRU\", \"mru_cache_config.cache_size\": 3268.0}, hit_rate: 0.920746101160143\n",
      "[92/100] current_config: {\"implementation\": \"MRU\", \"mru_cache_config.cache_size\": 3250.0}, hit_rate: 0.9283991189760376\n",
      "[93/100] current_config: {\"implementation\": \"MRU\", \"mru_cache_config.cache_size\": 199}, hit_rate: 0.09250607371589366\n",
      "[94/100] current_config: {\"implementation\": \"MRU\", \"mru_cache_config.cache_size\": 3278.0}, hit_rate: 0.9306044998668134\n",
      "[95/100] current_config: {\"implementation\": \"MRU\", \"mru_cache_config.cache_size\": 3254.0}, hit_rate: 0.8704289510394515\n",
      "[96/100] current_config: {\"implementation\": \"MRU\", \"mru_cache_config.cache_size\": 286}, hit_rate: 0.12811291925486715\n",
      "[97/100] current_config: {\"implementation\": \"MRU\", \"mru_cache_config.cache_size\": 1250}, hit_rate: 0.5571540091693346\n",
      "[98/100] current_config: {\"implementation\": \"LRU\", \"lru_cache_config.cache_size\": 2511}, hit_rate: 0.9352881698705988\n",
      "[99/100] current_config: {\"implementation\": \"LRU\", \"lru_cache_config.cache_size\": 3689}, hit_rate: 0.9366317027155348\n",
      "[100/100] current_config: {\"implementation\": \"MRU\", \"mru_cache_config.cache_size\": 2573}, hit_rate: 0.9325250395383328\n"
     ]
    }
   ],
   "source": [
    "num_iterations = 100\n",
    "data = []\n",
    "for i in range(num_iterations):\n",
    "    # suggest runs a 'cheap' search on the surrogate model to find a good candidate configuration\n",
    "    new_config_values = optimizer.suggest()\n",
    "    # set_configuration communicates the proposed configuration to the SmartCache\n",
    "    mlos_agent.set_configuration(component_type=SmartCache, new_config_values=new_config_values)\n",
    "    hit_rate_monitor.reset()\n",
    "    # start_workload will actually run the worker, here for 0.2 seconds\n",
    "    workload_launcher.start_workload(duration_s=0.2, block=True)\n",
    "    # obtain hit-rate as quality measure for configuration\n",
    "    hit_rate = hit_rate_monitor.get_hit_rate()\n",
    "    objectives_df = pd.DataFrame({'hit_rate': [hit_rate]})\n",
    "    # pass configuration and observed hit-rate to the optimizer to update the surrogate model\n",
    "    features_df = new_config_values.to_dataframe()\n",
    "    optimizer.register(features_df, objectives_df)\n",
    "    data.append((features_df, objectives_df))\n",
    "    print(f\"[{i+1}/{num_iterations}] current_config: {new_config_values}, hit_rate: {hit_rate}\")"
   ]
  },
  {
   "cell_type": "markdown",
   "metadata": {},
   "source": [
    "# Analyzing results\n",
    "\n",
    "For a cyclical workload with 2048 keys, we assume that a MRU cache with a size of at least 2048 will perform best, and get 100% hits once the cache is filled.\n",
    "Now lets see the suggestions and results from the current experiment."
   ]
  },
  {
   "cell_type": "code",
   "execution_count": 107,
   "metadata": {},
   "outputs": [
    {
     "data": {
      "text/html": [
       "<div>\n",
       "<style scoped>\n",
       "    .dataframe tbody tr th:only-of-type {\n",
       "        vertical-align: middle;\n",
       "    }\n",
       "\n",
       "    .dataframe tbody tr th {\n",
       "        vertical-align: top;\n",
       "    }\n",
       "\n",
       "    .dataframe thead th {\n",
       "        text-align: right;\n",
       "    }\n",
       "</style>\n",
       "<table border=\"1\" class=\"dataframe\">\n",
       "  <thead>\n",
       "    <tr style=\"text-align: right;\">\n",
       "      <th></th>\n",
       "      <th>implementation</th>\n",
       "      <th>mru_cache_config.cache_size</th>\n",
       "      <th>lru_cache_config.cache_size</th>\n",
       "      <th>hit_rate</th>\n",
       "    </tr>\n",
       "  </thead>\n",
       "  <tbody>\n",
       "    <tr>\n",
       "      <th>0</th>\n",
       "      <td>MRU</td>\n",
       "      <td>2706.0</td>\n",
       "      <td>NaN</td>\n",
       "      <td>0.806005</td>\n",
       "    </tr>\n",
       "    <tr>\n",
       "      <th>1</th>\n",
       "      <td>MRU</td>\n",
       "      <td>787.0</td>\n",
       "      <td>NaN</td>\n",
       "      <td>0.343256</td>\n",
       "    </tr>\n",
       "    <tr>\n",
       "      <th>2</th>\n",
       "      <td>LRU</td>\n",
       "      <td>NaN</td>\n",
       "      <td>2279.0</td>\n",
       "      <td>0.927821</td>\n",
       "    </tr>\n",
       "    <tr>\n",
       "      <th>3</th>\n",
       "      <td>LRU</td>\n",
       "      <td>NaN</td>\n",
       "      <td>2102.0</td>\n",
       "      <td>0.935139</td>\n",
       "    </tr>\n",
       "    <tr>\n",
       "      <th>4</th>\n",
       "      <td>LRU</td>\n",
       "      <td>NaN</td>\n",
       "      <td>2107.0</td>\n",
       "      <td>0.933277</td>\n",
       "    </tr>\n",
       "    <tr>\n",
       "      <th>...</th>\n",
       "      <td>...</td>\n",
       "      <td>...</td>\n",
       "      <td>...</td>\n",
       "      <td>...</td>\n",
       "    </tr>\n",
       "    <tr>\n",
       "      <th>95</th>\n",
       "      <td>MRU</td>\n",
       "      <td>286.0</td>\n",
       "      <td>NaN</td>\n",
       "      <td>0.128113</td>\n",
       "    </tr>\n",
       "    <tr>\n",
       "      <th>96</th>\n",
       "      <td>MRU</td>\n",
       "      <td>1250.0</td>\n",
       "      <td>NaN</td>\n",
       "      <td>0.557154</td>\n",
       "    </tr>\n",
       "    <tr>\n",
       "      <th>97</th>\n",
       "      <td>LRU</td>\n",
       "      <td>NaN</td>\n",
       "      <td>2511.0</td>\n",
       "      <td>0.935288</td>\n",
       "    </tr>\n",
       "    <tr>\n",
       "      <th>98</th>\n",
       "      <td>LRU</td>\n",
       "      <td>NaN</td>\n",
       "      <td>3689.0</td>\n",
       "      <td>0.936632</td>\n",
       "    </tr>\n",
       "    <tr>\n",
       "      <th>99</th>\n",
       "      <td>MRU</td>\n",
       "      <td>2573.0</td>\n",
       "      <td>NaN</td>\n",
       "      <td>0.932525</td>\n",
       "    </tr>\n",
       "  </tbody>\n",
       "</table>\n",
       "<p>100 rows × 4 columns</p>\n",
       "</div>"
      ],
      "text/plain": [
       "   implementation  mru_cache_config.cache_size  lru_cache_config.cache_size  \\\n",
       "0             MRU                       2706.0                          NaN   \n",
       "1             MRU                        787.0                          NaN   \n",
       "2             LRU                          NaN                       2279.0   \n",
       "3             LRU                          NaN                       2102.0   \n",
       "4             LRU                          NaN                       2107.0   \n",
       "..            ...                          ...                          ...   \n",
       "95            MRU                        286.0                          NaN   \n",
       "96            MRU                       1250.0                          NaN   \n",
       "97            LRU                          NaN                       2511.0   \n",
       "98            LRU                          NaN                       3689.0   \n",
       "99            MRU                       2573.0                          NaN   \n",
       "\n",
       "    hit_rate  \n",
       "0   0.806005  \n",
       "1   0.343256  \n",
       "2   0.927821  \n",
       "3   0.935139  \n",
       "4   0.933277  \n",
       "..       ...  \n",
       "95  0.128113  \n",
       "96  0.557154  \n",
       "97  0.935288  \n",
       "98  0.936632  \n",
       "99  0.932525  \n",
       "\n",
       "[100 rows x 4 columns]"
      ]
     },
     "execution_count": 107,
     "metadata": {},
     "output_type": "execute_result"
    }
   ],
   "source": [
    "# some pandas wrangling\n",
    "features, targets = zip(*data)\n",
    "df = pd.concat(features, ignore_index=True)\n",
    "df['hit_rate'] = pd.concat(targets, ignore_index=True)\n",
    "df"
   ]
  },
  {
   "cell_type": "code",
   "execution_count": 108,
   "metadata": {},
   "outputs": [
    {
     "data": {
      "text/plain": [
       "<matplotlib.legend.Legend at 0x7fdf307aa048>"
      ]
     },
     "execution_count": 108,
     "metadata": {},
     "output_type": "execute_result"
    },
    {
     "data": {
      "image/png": "[encoded data removed]",
      "text/plain": [
       "<Figure size 432x288 with 1 Axes>"
      ]
     },
     "metadata": {
      "needs_background": "light"
     },
     "output_type": "display_data"
    }
   ],
   "source": [
    "# group by implementation, then plot\n",
    "lru_data, mru_data = df.groupby('implementation')\n",
    "\n",
    "import matplotlib.pyplot as plt\n",
    "line_lru = lru_data[1].plot(x='lru_cache_config.cache_size', y='hit_rate', label='LRU', marker='o', linestyle='none', alpha=.6)\n",
    "mru_data[1].plot(x='mru_cache_config.cache_size', y='hit_rate', label='MRU', marker='o', linestyle='none', alpha=.6, ax=plt.gca())\n",
    "plt.ylabel(\"Cache hitrate\")\n",
    "plt.xlabel(\"Cache Size\")\n",
    "plt.legend()"
   ]
  },
  {
   "cell_type": "markdown",
   "metadata": {},
   "source": [
    "We can see that if the cache size is over 2048 keys, it means everything can fit into the cache and the strategy does not matter.\n",
    "However, for smaller cache sizes, the MRU strategy has an obvious advantage over the LRU strategy."
   ]
  },
  {
   "cell_type": "markdown",
   "metadata": {},
   "source": [
    "# Going Further\n",
    "\n",
    "1) Log how the optimum evolves over time. How many iterations are needed?\n",
    "\n",
    "2) Can you adjust options in the Optimizer to improve convergence (see the BayesianOptimization notebook for suggestions).\n",
    "\n",
    "3) Choose a different workload in the ``SmartCacheWorkloadGenerator``. How do the workloads change the optimum strategy?"
   ]
  },
  {
   "cell_type": "markdown",
   "metadata": {},
   "source": [
    "### Answer\n",
    "\n",
    "(1) Using the default configuration, the model converge pretty quick already. At the beginning of the iterations, the cache hit rate had already reached > 90%. At around 20 iterations, the cache rate had a step-up for around 2%. \n",
    "\n",
    "![](./SmartCacheOptimization-image/1-1.png)\n",
    "\n",
    "**Figure 1. Cyclic workflow optimum value over time, with default Baysian optimizer configuration.**\n"
   ]
  },
  {
   "cell_type": "markdown",
   "metadata": {},
   "source": [
    "\n",
    "(2) We can use the `optimizer_config` to adjust the improve convergence. \n",
    "\n",
    "We had tried some options - but did not really improve the *convergence rate* that much... Rather, when we choose to do \n",
    "```python\n",
    "optimizer_config.experiment_designer_config_fraction_random_suggestions = 0\n",
    "```\n",
    "The computation was much faster than expected.\n",
    "\n",
    "![](./SmartCacheOptimization-image/2-1.png)\n",
    "\n",
    "**Figure 2.1. Cyclic workflow optimum value over time, with Baysian optimizer configuration setting `random_suggestion=0`**\n",
    "\n",
    "\n",
    "![](./SmartCacheOptimization-image/2-2.png)\n",
    "\n",
    "**Figure 2.2. Cyclic workflow observed values distribution, with Baysian optimizer configuration setting `random_suggestion=0`**\n",
    "\n"
   ]
  },
  {
   "cell_type": "markdown",
   "metadata": {},
   "source": [
    "\n",
    "(3) We show the `fibonacci` workflow here and its convergence process. The model iterates around 20 steps to converge to nearly 97%. \n",
    "\n",
    "![](./SmartCacheOptimization-image/3-1.png)\n",
    "\n",
    "**Figure 3.1. Fibonacci workflow optimum value over time, with default Baysian optimizer configuration. **\n",
    "\n",
    "![](./SmartCacheOptimization-image/3-2.png)\n",
    "\n",
    "**Figure 3.2. Fibonacci workflow observed values distribution, with default Baysian optimizer**\n",
    "\n"
   ]
  },
  {
   "cell_type": "markdown",
   "metadata": {},
   "source": [
    " "
   ]
  },
  {
   "cell_type": "markdown",
   "metadata": {},
   "source": [
    "### Exercise (1)"
   ]
  },
  {
   "cell_type": "code",
   "execution_count": 109,
   "metadata": {},
   "outputs": [
    {
     "data": {
      "text/plain": [
       "Text(0.5, 0, 'Iteration Number')"
      ]
     },
     "execution_count": 109,
     "metadata": {},
     "output_type": "execute_result"
    },
    {
     "data": {
      "image/png": "[encoded data removed]",
      "text/plain": [
       "<Figure size 432x288 with 1 Axes>"
      ]
     },
     "metadata": {
      "needs_background": "light"
     },
     "output_type": "display_data"
    }
   ],
   "source": [
    "from functools import reduce\n",
    "optimum_values = df['hit_rate']\n",
    "a = reduce(lambda x,y: x + [x[-1]] if x[-1] > y else x + [y], optimum_values, [0])\n",
    "b = list(a)\n",
    "# group by implementation, then plot\n",
    "plt.plot(b)\n",
    "plt.ylim(0.9, 1)\n",
    "plt.ylabel(\"Cache hitrate\")\n",
    "plt.xlabel(\"Iteration Number\")"
   ]
  },
  {
   "cell_type": "markdown",
   "metadata": {},
   "source": [
    "### Exercise (2)"
   ]
  },
  {
   "cell_type": "code",
   "execution_count": 130,
   "metadata": {},
   "outputs": [],
   "source": [
    "from mlos.Optimizers.BayesianOptimizer import BayesianOptimizer, BayesianOptimizerConfig\n",
    "optimizer_config = BayesianOptimizerConfig.DEFAULT\n",
    "\n",
    "optimizer_config.experiment_designer_config_fraction_random_suggestions = 0\n",
    "random_forest_config = optimizer_config.homogeneous_random_forest_regression_model_config\n",
    "random_forest_config.decision_tree_regression_model_config.n_new_samples_before_refit = 1\n",
    "random_forest_config.samples_fraction_per_estimator = .9\n",
    "optimizer_config.experiment_designer_config.confidence_bound_utility_function_config.alpha = 0.1\n",
    "\n",
    "optimizer = bayesian_optimizer_factory.create_remote_optimizer(\n",
    "    optimization_problem=optimization_problem,\n",
    "    optimizer_config=optimizer_config\n",
    ")"
   ]
  },
  {
   "cell_type": "code",
   "execution_count": 131,
   "metadata": {
    "scrolled": true
   },
   "outputs": [
    {
     "name": "stdout",
     "output_type": "stream",
     "text": [
      "[1/100] current_config: {\"implementation\": \"MRU\", \"mru_cache_config.cache_size\": 3114}, hit_rate: 0.9210526336565097\n",
      "[2/100] current_config: {\"implementation\": \"LRU\", \"lru_cache_config.cache_size\": 1318}, hit_rate: 0.5000002499998749\n",
      "[3/100] current_config: {\"implementation\": \"MRU\", \"mru_cache_config.cache_size\": 1778}, hit_rate: 0.8974359000657461\n",
      "[4/100] current_config: {\"implementation\": \"LRU\", \"lru_cache_config.cache_size\": 1092}, hit_rate: 0.5000000833333195\n",
      "[5/100] current_config: {\"implementation\": \"MRU\", \"mru_cache_config.cache_size\": 358}, hit_rate: 0.5252525300479542\n",
      "[6/100] current_config: {\"implementation\": \"MRU\", \"mru_cache_config.cache_size\": 252}, hit_rate: 0.536000003712\n",
      "[7/100] current_config: {\"implementation\": \"MRU\", \"mru_cache_config.cache_size\": 3077}, hit_rate: 0.8947368448753462\n",
      "[8/100] current_config: {\"implementation\": \"LRU\", \"lru_cache_config.cache_size\": 1905}, hit_rate: 0.7894736952908581\n",
      "[9/100] current_config: {\"implementation\": \"MRU\", \"mru_cache_config.cache_size\": 4084}, hit_rate: 0.777777790123456\n",
      "[10/100] current_config: {\"implementation\": \"LRU\", \"lru_cache_config.cache_size\": 1356}, hit_rate: 0.5000001249999688\n",
      "[11/100] current_config: {\"implementation\": \"MRU\", \"mru_cache_config.cache_size\": 2649}, hit_rate: 0.937500001953125\n",
      "[12/100] current_config: {\"implementation\": \"MRU\", \"mru_cache_config.cache_size\": 2129.0}, hit_rate: 0.9142857167346938\n",
      "[13/100] current_config: {\"implementation\": \"MRU\", \"mru_cache_config.cache_size\": 3963.0}, hit_rate: 0.9210526336565097\n",
      "[14/100] current_config: {\"implementation\": \"MRU\", \"mru_cache_config.cache_size\": 2420}, hit_rate: 0.8888888913580246\n",
      "[15/100] current_config: {\"implementation\": \"LRU\", \"lru_cache_config.cache_size\": 897}, hit_rate: 0.40000011999997603\n",
      "[16/100] current_config: {\"implementation\": \"LRU\", \"lru_cache_config.cache_size\": 478}, hit_rate: 0.2500001874999531\n",
      "[17/100] current_config: {\"implementation\": \"LRU\", \"lru_cache_config.cache_size\": 2097.0}, hit_rate: 0.9285714302721088\n",
      "[18/100] current_config: {\"implementation\": \"MRU\", \"mru_cache_config.cache_size\": 1584}, hit_rate: 0.8717948750821827\n",
      "[19/100] current_config: {\"implementation\": \"MRU\", \"mru_cache_config.cache_size\": 444.0}, hit_rate: 0.5801526749606666\n",
      "[20/100] current_config: {\"implementation\": \"MRU\", \"mru_cache_config.cache_size\": 814.0}, hit_rate: 0.5806451748178976\n",
      "[21/100] current_config: {\"implementation\": \"MRU\", \"mru_cache_config.cache_size\": 1729.0}, hit_rate: 0.759259263717421\n",
      "[22/100] current_config: {\"implementation\": \"MRU\", \"mru_cache_config.cache_size\": 1171.0}, hit_rate: 0.6853932619618734\n",
      "[23/100] current_config: {\"implementation\": \"LRU\", \"lru_cache_config.cache_size\": 1635}, hit_rate: 0.5000001249999688\n",
      "[24/100] current_config: {\"implementation\": \"MRU\", \"mru_cache_config.cache_size\": 1519}, hit_rate: 0.8166666697222221\n",
      "[25/100] current_config: {\"implementation\": \"LRU\", \"lru_cache_config.cache_size\": 1047}, hit_rate: 0.5000002499998749\n",
      "[26/100] current_config: {\"implementation\": \"LRU\", \"lru_cache_config.cache_size\": 1563}, hit_rate: 0.7000000149999992\n",
      "[27/100] current_config: {\"implementation\": \"MRU\", \"mru_cache_config.cache_size\": 3237.0}, hit_rate: 0.8974359000657461\n",
      "[28/100] current_config: {\"implementation\": \"LRU\", \"lru_cache_config.cache_size\": 3772.0}, hit_rate: 0.9428571444897959\n",
      "[29/100] current_config: {\"implementation\": \"MRU\", \"mru_cache_config.cache_size\": 2636.0}, hit_rate: 0.8750000026041667\n",
      "[30/100] current_config: {\"implementation\": \"LRU\", \"lru_cache_config.cache_size\": 1316}, hit_rate: 0.6000000799999841\n",
      "[31/100] current_config: {\"implementation\": \"LRU\", \"lru_cache_config.cache_size\": 2463}, hit_rate: 0.9000000024999999\n",
      "[32/100] current_config: {\"implementation\": \"LRU\", \"lru_cache_config.cache_size\": 1855.0}, hit_rate: 0.7142857346938761\n",
      "[33/100] current_config: {\"implementation\": \"LRU\", \"lru_cache_config.cache_size\": 1235}, hit_rate: 0.5000002499998749\n",
      "[34/100] current_config: {\"implementation\": \"LRU\", \"lru_cache_config.cache_size\": 324}, hit_rate: 0.3333334444444259\n",
      "[35/100] current_config: {\"implementation\": \"LRU\", \"lru_cache_config.cache_size\": 3518.0}, hit_rate: 0.8913043501890359\n",
      "[36/100] current_config: {\"implementation\": \"LRU\", \"lru_cache_config.cache_size\": 2527.0}, hit_rate: 0.8863636389462809\n",
      "[37/100] current_config: {\"implementation\": \"LRU\", \"lru_cache_config.cache_size\": 2127.0}, hit_rate: 0.9318181833677686\n",
      "[38/100] current_config: {\"implementation\": \"LRU\", \"lru_cache_config.cache_size\": 3865}, hit_rate: 0.9111111130864197\n",
      "[39/100] current_config: {\"implementation\": \"LRU\", \"lru_cache_config.cache_size\": 2887}, hit_rate: 0.777777790123456\n",
      "[40/100] current_config: {\"implementation\": \"MRU\", \"mru_cache_config.cache_size\": 1958}, hit_rate: 0.860465119524067\n",
      "[41/100] current_config: {\"implementation\": \"MRU\", \"mru_cache_config.cache_size\": 4081}, hit_rate: 0.8409090945247933\n",
      "[42/100] current_config: {\"implementation\": \"LRU\", \"lru_cache_config.cache_size\": 1997.0}, hit_rate: 0.7000000299999971\n",
      "[43/100] current_config: {\"implementation\": \"MRU\", \"mru_cache_config.cache_size\": 3166.0}, hit_rate: 0.880952383786848\n",
      "[44/100] current_config: {\"implementation\": \"LRU\", \"lru_cache_config.cache_size\": 2290.0}, hit_rate: 0.8947368448753462\n",
      "[45/100] current_config: {\"implementation\": \"LRU\", \"lru_cache_config.cache_size\": 3737}, hit_rate: 0.8620689702734838\n",
      "[46/100] current_config: {\"implementation\": \"MRU\", \"mru_cache_config.cache_size\": 2559}, hit_rate: 0.9743589750164365\n",
      "[47/100] current_config: {\"implementation\": \"MRU\", \"mru_cache_config.cache_size\": 2007}, hit_rate: 0.7500000208333316\n",
      "[48/100] current_config: {\"implementation\": \"LRU\", \"lru_cache_config.cache_size\": 2053.0}, hit_rate: 0.9111111130864197\n",
      "[49/100] current_config: {\"implementation\": \"LRU\", \"lru_cache_config.cache_size\": 2056.0}, hit_rate: 0.9000000024999999\n",
      "[50/100] current_config: {\"implementation\": \"MRU\", \"mru_cache_config.cache_size\": 175}, hit_rate: 0.5344827626337693\n",
      "[51/100] current_config: {\"implementation\": \"LRU\", \"lru_cache_config.cache_size\": 2036.0}, hit_rate: 0.8888888913580246\n",
      "[52/100] current_config: {\"implementation\": \"LRU\", \"lru_cache_config.cache_size\": 2024.0}, hit_rate: 0.869565220226843\n",
      "[53/100] current_config: {\"implementation\": \"LRU\", \"lru_cache_config.cache_size\": 2015.0}, hit_rate: 0.5000002499998749\n",
      "[54/100] current_config: {\"implementation\": \"LRU\", \"lru_cache_config.cache_size\": 1549}, hit_rate: 0.5000002499998749\n",
      "[55/100] current_config: {\"implementation\": \"MRU\", \"mru_cache_config.cache_size\": 3927}, hit_rate: 0.937500001953125\n",
      "[56/100] current_config: {\"implementation\": \"MRU\", \"mru_cache_config.cache_size\": 2182.0}, hit_rate: 0.7916666753472219\n",
      "[57/100] current_config: {\"implementation\": \"MRU\", \"mru_cache_config.cache_size\": 3784}, hit_rate: 0.9302325597620335\n",
      "[58/100] current_config: {\"implementation\": \"LRU\", \"lru_cache_config.cache_size\": 1392}, hit_rate: 0.7000000299999971\n",
      "[59/100] current_config: {\"implementation\": \"LRU\", \"lru_cache_config.cache_size\": 466}, hit_rate: 0.2500001874999531\n",
      "[60/100] current_config: {\"implementation\": \"LRU\", \"lru_cache_config.cache_size\": 2024.0}, hit_rate: 0.8780487834622248\n",
      "[61/100] current_config: {\"implementation\": \"LRU\", \"lru_cache_config.cache_size\": 2020.0}, hit_rate: 0.906976746349378\n",
      "[62/100] current_config: {\"implementation\": \"MRU\", \"mru_cache_config.cache_size\": 2750}, hit_rate: 0.9000000024999999\n",
      "[63/100] current_config: {\"implementation\": \"MRU\", \"mru_cache_config.cache_size\": 3577}, hit_rate: 0.8510638329560887\n",
      "[64/100] current_config: {\"implementation\": \"MRU\", \"mru_cache_config.cache_size\": 306}, hit_rate: 0.5337837869338933\n",
      "[65/100] current_config: {\"implementation\": \"MRU\", \"mru_cache_config.cache_size\": 3111}, hit_rate: 0.9523809535147392\n",
      "[66/100] current_config: {\"implementation\": \"LRU\", \"lru_cache_config.cache_size\": 2019.0}, hit_rate: 0.8461538579881648\n",
      "[67/100] current_config: {\"implementation\": \"LRU\", \"lru_cache_config.cache_size\": 1419}, hit_rate: 0.6000000799999841\n",
      "[68/100] current_config: {\"implementation\": \"LRU\", \"lru_cache_config.cache_size\": 2019.0}, hit_rate: 0.8974359000657461\n",
      "[69/100] current_config: {\"implementation\": \"LRU\", \"lru_cache_config.cache_size\": 2022.0}, hit_rate: 0.8947368448753462\n",
      "[70/100] current_config: {\"implementation\": \"MRU\", \"mru_cache_config.cache_size\": 2537.0}, hit_rate: 0.8780487834622248\n"
     ]
    },
    {
     "name": "stdout",
     "output_type": "stream",
     "text": [
      "[71/100] current_config: {\"implementation\": \"MRU\", \"mru_cache_config.cache_size\": 2349}, hit_rate: 0.9047619070294785\n",
      "[72/100] current_config: {\"implementation\": \"LRU\", \"lru_cache_config.cache_size\": 843}, hit_rate: 0.5000000833333195\n",
      "[73/100] current_config: {\"implementation\": \"LRU\", \"lru_cache_config.cache_size\": 1506}, hit_rate: 0.5000001249999688\n",
      "[74/100] current_config: {\"implementation\": \"MRU\", \"mru_cache_config.cache_size\": 1113}, hit_rate: 0.6542056107083588\n",
      "[75/100] current_config: {\"implementation\": \"LRU\", \"lru_cache_config.cache_size\": 232}, hit_rate: 0.3333334444444259\n",
      "[76/100] current_config: {\"implementation\": \"MRU\", \"mru_cache_config.cache_size\": 1527.0}, hit_rate: 0.7594936739304599\n",
      "[77/100] current_config: {\"implementation\": \"MRU\", \"mru_cache_config.cache_size\": 2527.0}, hit_rate: 0.8936170235400633\n",
      "[78/100] current_config: {\"implementation\": \"MRU\", \"mru_cache_config.cache_size\": 507}, hit_rate: 0.5740740780178326\n",
      "[79/100] current_config: {\"implementation\": \"MRU\", \"mru_cache_config.cache_size\": 2657.0}, hit_rate: 0.857142867346938\n",
      "[80/100] current_config: {\"implementation\": \"MRU\", \"mru_cache_config.cache_size\": 3781}, hit_rate: 0.9130434801512287\n",
      "[81/100] current_config: {\"implementation\": \"MRU\", \"mru_cache_config.cache_size\": 4050.0}, hit_rate: 0.9189189211102994\n",
      "[82/100] current_config: {\"implementation\": \"MRU\", \"mru_cache_config.cache_size\": 2556.0}, hit_rate: 0.9090909111570248\n",
      "[83/100] current_config: {\"implementation\": \"MRU\", \"mru_cache_config.cache_size\": 2572.0}, hit_rate: 0.8958333355034722\n",
      "[84/100] current_config: {\"implementation\": \"MRU\", \"mru_cache_config.cache_size\": 458}, hit_rate: 0.5833333360042735\n",
      "[85/100] current_config: {\"implementation\": \"LRU\", \"lru_cache_config.cache_size\": 204}, hit_rate: 0.28571438775508745\n",
      "[86/100] current_config: {\"implementation\": \"LRU\", \"lru_cache_config.cache_size\": 886}, hit_rate: 0.5000002499998749\n",
      "[87/100] current_config: {\"implementation\": \"LRU\", \"lru_cache_config.cache_size\": 256}, hit_rate: 0.20000015999996798\n",
      "[88/100] current_config: {\"implementation\": \"LRU\", \"lru_cache_config.cache_size\": 1282}, hit_rate: 0.6470588442906562\n",
      "[89/100] current_config: {\"implementation\": \"MRU\", \"mru_cache_config.cache_size\": 3687}, hit_rate: 0.8600000027999999\n",
      "[90/100] current_config: {\"implementation\": \"MRU\", \"mru_cache_config.cache_size\": 3792}, hit_rate: 0.7777778024691331\n",
      "[91/100] current_config: {\"implementation\": \"MRU\", \"mru_cache_config.cache_size\": 2558.0}, hit_rate: 0.8947368448753462\n",
      "[92/100] current_config: {\"implementation\": \"LRU\", \"lru_cache_config.cache_size\": 14}, hit_rate: 0.36666668777777706\n",
      "[93/100] current_config: {\"implementation\": \"MRU\", \"mru_cache_config.cache_size\": 512}, hit_rate: 0.5797101479731148\n",
      "[94/100] current_config: {\"implementation\": \"MRU\", \"mru_cache_config.cache_size\": 3867.0}, hit_rate: 0.9000000024999999\n",
      "[95/100] current_config: {\"implementation\": \"LRU\", \"lru_cache_config.cache_size\": 1441}, hit_rate: 0.33333355555548144\n",
      "[96/100] current_config: {\"implementation\": \"MRU\", \"mru_cache_config.cache_size\": 2071}, hit_rate: 0.8070175472453062\n",
      "[97/100] current_config: {\"implementation\": \"MRU\", \"mru_cache_config.cache_size\": 3806.0}, hit_rate: 0.9000000024999999\n",
      "[98/100] current_config: {\"implementation\": \"LRU\", \"lru_cache_config.cache_size\": 68}, hit_rate: 0.3529412145328697\n",
      "[99/100] current_config: {\"implementation\": \"MRU\", \"mru_cache_config.cache_size\": 2578.0}, hit_rate: 0.8529411807958477\n",
      "[100/100] current_config: {\"implementation\": \"LRU\", \"lru_cache_config.cache_size\": 3476}, hit_rate: 0.8750000031249999\n"
     ]
    }
   ],
   "source": [
    "num_iterations = 100\n",
    "new_data = []\n",
    "for i in range(num_iterations):\n",
    "    # suggest runs a 'cheap' search on the surrogate model to find a good candidate configuration\n",
    "    new_config_values = optimizer.suggest()\n",
    "    # set_configuration communicates the proposed configuration to the SmartCache\n",
    "    mlos_agent.set_configuration(component_type=SmartCache, new_config_values=new_config_values)\n",
    "    hit_rate_monitor.reset()\n",
    "    # start_workload will actually run the worker, here for 0.2 seconds\n",
    "    workload_launcher.start_workload(duration_s=0.2, block=True)\n",
    "    # obtain hit-rate as quality measure for configuration\n",
    "    hit_rate = hit_rate_monitor.get_hit_rate()\n",
    "    objectives_df = pd.DataFrame({'hit_rate': [hit_rate]})\n",
    "    # pass configuration and observed hit-rate to the optimizer to update the surrogate model\n",
    "    features_df = new_config_values.to_dataframe()\n",
    "    optimizer.register(features_df, objectives_df)\n",
    "    new_data.append((features_df, objectives_df))\n",
    "    print(f\"[{i+1}/{num_iterations}] current_config: {new_config_values}, hit_rate: {hit_rate}\")"
   ]
  },
  {
   "cell_type": "code",
   "execution_count": 135,
   "metadata": {},
   "outputs": [
    {
     "data": {
      "text/html": [
       "<div>\n",
       "<style scoped>\n",
       "    .dataframe tbody tr th:only-of-type {\n",
       "        vertical-align: middle;\n",
       "    }\n",
       "\n",
       "    .dataframe tbody tr th {\n",
       "        vertical-align: top;\n",
       "    }\n",
       "\n",
       "    .dataframe thead th {\n",
       "        text-align: right;\n",
       "    }\n",
       "</style>\n",
       "<table border=\"1\" class=\"dataframe\">\n",
       "  <thead>\n",
       "    <tr style=\"text-align: right;\">\n",
       "      <th></th>\n",
       "      <th>implementation</th>\n",
       "      <th>mru_cache_config.cache_size</th>\n",
       "      <th>lru_cache_config.cache_size</th>\n",
       "      <th>hit_rate</th>\n",
       "    </tr>\n",
       "  </thead>\n",
       "  <tbody>\n",
       "    <tr>\n",
       "      <th>0</th>\n",
       "      <td>MRU</td>\n",
       "      <td>3114.0</td>\n",
       "      <td>NaN</td>\n",
       "      <td>0.921053</td>\n",
       "    </tr>\n",
       "    <tr>\n",
       "      <th>1</th>\n",
       "      <td>LRU</td>\n",
       "      <td>NaN</td>\n",
       "      <td>1318.0</td>\n",
       "      <td>0.500000</td>\n",
       "    </tr>\n",
       "    <tr>\n",
       "      <th>2</th>\n",
       "      <td>MRU</td>\n",
       "      <td>1778.0</td>\n",
       "      <td>NaN</td>\n",
       "      <td>0.897436</td>\n",
       "    </tr>\n",
       "    <tr>\n",
       "      <th>3</th>\n",
       "      <td>LRU</td>\n",
       "      <td>NaN</td>\n",
       "      <td>1092.0</td>\n",
       "      <td>0.500000</td>\n",
       "    </tr>\n",
       "    <tr>\n",
       "      <th>4</th>\n",
       "      <td>MRU</td>\n",
       "      <td>358.0</td>\n",
       "      <td>NaN</td>\n",
       "      <td>0.525253</td>\n",
       "    </tr>\n",
       "    <tr>\n",
       "      <th>...</th>\n",
       "      <td>...</td>\n",
       "      <td>...</td>\n",
       "      <td>...</td>\n",
       "      <td>...</td>\n",
       "    </tr>\n",
       "    <tr>\n",
       "      <th>95</th>\n",
       "      <td>MRU</td>\n",
       "      <td>2071.0</td>\n",
       "      <td>NaN</td>\n",
       "      <td>0.807018</td>\n",
       "    </tr>\n",
       "    <tr>\n",
       "      <th>96</th>\n",
       "      <td>MRU</td>\n",
       "      <td>3806.0</td>\n",
       "      <td>NaN</td>\n",
       "      <td>0.900000</td>\n",
       "    </tr>\n",
       "    <tr>\n",
       "      <th>97</th>\n",
       "      <td>LRU</td>\n",
       "      <td>NaN</td>\n",
       "      <td>68.0</td>\n",
       "      <td>0.352941</td>\n",
       "    </tr>\n",
       "    <tr>\n",
       "      <th>98</th>\n",
       "      <td>MRU</td>\n",
       "      <td>2578.0</td>\n",
       "      <td>NaN</td>\n",
       "      <td>0.852941</td>\n",
       "    </tr>\n",
       "    <tr>\n",
       "      <th>99</th>\n",
       "      <td>LRU</td>\n",
       "      <td>NaN</td>\n",
       "      <td>3476.0</td>\n",
       "      <td>0.875000</td>\n",
       "    </tr>\n",
       "  </tbody>\n",
       "</table>\n",
       "<p>100 rows × 4 columns</p>\n",
       "</div>"
      ],
      "text/plain": [
       "   implementation  mru_cache_config.cache_size  lru_cache_config.cache_size  \\\n",
       "0             MRU                       3114.0                          NaN   \n",
       "1             LRU                          NaN                       1318.0   \n",
       "2             MRU                       1778.0                          NaN   \n",
       "3             LRU                          NaN                       1092.0   \n",
       "4             MRU                        358.0                          NaN   \n",
       "..            ...                          ...                          ...   \n",
       "95            MRU                       2071.0                          NaN   \n",
       "96            MRU                       3806.0                          NaN   \n",
       "97            LRU                          NaN                         68.0   \n",
       "98            MRU                       2578.0                          NaN   \n",
       "99            LRU                          NaN                       3476.0   \n",
       "\n",
       "    hit_rate  \n",
       "0   0.921053  \n",
       "1   0.500000  \n",
       "2   0.897436  \n",
       "3   0.500000  \n",
       "4   0.525253  \n",
       "..       ...  \n",
       "95  0.807018  \n",
       "96  0.900000  \n",
       "97  0.352941  \n",
       "98  0.852941  \n",
       "99  0.875000  \n",
       "\n",
       "[100 rows x 4 columns]"
      ]
     },
     "execution_count": 135,
     "metadata": {},
     "output_type": "execute_result"
    }
   ],
   "source": [
    "# some pandas wrangling\n",
    "features, targets = zip(*new_data)\n",
    "df = pd.concat(features, ignore_index=True)\n",
    "df['hit_rate'] = pd.concat(targets, ignore_index=True)\n",
    "df"
   ]
  },
  {
   "cell_type": "code",
   "execution_count": 136,
   "metadata": {},
   "outputs": [
    {
     "data": {
      "text/plain": [
       "<matplotlib.legend.Legend at 0x7fdf320af438>"
      ]
     },
     "execution_count": 136,
     "metadata": {},
     "output_type": "execute_result"
    },
    {
     "data": {
      "image/png": "[encoded data removed]",
      "text/plain": [
       "<Figure size 432x288 with 1 Axes>"
      ]
     },
     "metadata": {
      "needs_background": "light"
     },
     "output_type": "display_data"
    }
   ],
   "source": [
    "# group by implementation, then plot\n",
    "lru_data, mru_data = df.groupby('implementation')\n",
    "\n",
    "import matplotlib.pyplot as plt\n",
    "line_lru = lru_data[1].plot(x='lru_cache_config.cache_size', y='hit_rate', label='LRU', marker='o', linestyle='none', alpha=.6)\n",
    "mru_data[1].plot(x='mru_cache_config.cache_size', y='hit_rate', label='MRU', marker='o', linestyle='none', alpha=.6, ax=plt.gca())\n",
    "plt.ylabel(\"Cache hitrate\")\n",
    "plt.xlabel(\"Cache Size\")\n",
    "plt.legend()"
   ]
  },
  {
   "cell_type": "code",
   "execution_count": 137,
   "metadata": {},
   "outputs": [
    {
     "data": {
      "text/plain": [
       "Text(0.5, 0, 'Iteration Number')"
      ]
     },
     "execution_count": 137,
     "metadata": {},
     "output_type": "execute_result"
    },
    {
     "data": {
      "image/png": "[encoded data removed]",
      "text/plain": [
       "<Figure size 432x288 with 1 Axes>"
      ]
     },
     "metadata": {
      "needs_background": "light"
     },
     "output_type": "display_data"
    }
   ],
   "source": [
    "from functools import reduce\n",
    "optimum_values = df['hit_rate']\n",
    "a = reduce(lambda x,y: x + [x[-1]] if x[-1] > y else x + [y], optimum_values, [0])\n",
    "b = list(a)\n",
    "# group by implementation, then plot\n",
    "plt.plot(b)\n",
    "plt.ylim(0.9, 1)\n",
    "plt.ylabel(\"Cache hitrate\")\n",
    "plt.xlabel(\"Iteration Number\")"
   ]
  },
  {
   "cell_type": "markdown",
   "metadata": {},
   "source": [
    "### Exercise (3)"
   ]
  },
  {
   "cell_type": "code",
   "execution_count": 127,
   "metadata": {},
   "outputs": [
    {
     "name": "stdout",
     "output_type": "stream",
     "text": [
      "[1/100] current_config: {\"implementation\": \"LRU\", \"lru_cache_config.cache_size\": 3644}, hit_rate: 0.9024390267697798\n",
      "[2/100] current_config: {\"implementation\": \"MRU\", \"mru_cache_config.cache_size\": 629}, hit_rate: 0.6097561007336902\n",
      "[3/100] current_config: {\"implementation\": \"LRU\", \"lru_cache_config.cache_size\": 836}, hit_rate: 0.5000000833333195\n",
      "[4/100] current_config: {\"implementation\": \"LRU\", \"lru_cache_config.cache_size\": 95}, hit_rate: 0.1666668055555324\n",
      "[5/100] current_config: {\"implementation\": \"LRU\", \"lru_cache_config.cache_size\": 1417}, hit_rate: 0.33333355555548144\n",
      "[6/100] current_config: {\"implementation\": \"LRU\", \"lru_cache_config.cache_size\": 1945}, hit_rate: 0.7878787943067033\n",
      "[7/100] current_config: {\"implementation\": \"LRU\", \"lru_cache_config.cache_size\": 879}, hit_rate: 0.40000011999997603\n",
      "[8/100] current_config: {\"implementation\": \"MRU\", \"mru_cache_config.cache_size\": 1040}, hit_rate: 0.6363636400367308\n",
      "[9/100] current_config: {\"implementation\": \"MRU\", \"mru_cache_config.cache_size\": 940}, hit_rate: 0.6161616200387715\n",
      "[10/100] current_config: {\"implementation\": \"LRU\", \"lru_cache_config.cache_size\": 679}, hit_rate: 0.33333355555548144\n",
      "[11/100] current_config: {\"implementation\": \"LRU\", \"lru_cache_config.cache_size\": 855}, hit_rate: 0.5000000833333195\n",
      "[12/100] current_config: {\"implementation\": \"LRU\", \"lru_cache_config.cache_size\": 1775}, hit_rate: 0.6666666944444422\n",
      "[13/100] current_config: {\"implementation\": \"MRU\", \"mru_cache_config.cache_size\": 3992.0}, hit_rate: 0.941176472318339\n",
      "[14/100] current_config: {\"implementation\": \"MRU\", \"mru_cache_config.cache_size\": 3830}, hit_rate: 0.8913043501890359\n",
      "[15/100] current_config: {\"implementation\": \"LRU\", \"lru_cache_config.cache_size\": 2495.0}, hit_rate: 0.8823529434832756\n",
      "[16/100] current_config: {\"implementation\": \"MRU\", \"mru_cache_config.cache_size\": 804}, hit_rate: 0.649122810095414\n",
      "[17/100] current_config: {\"implementation\": \"MRU\", \"mru_cache_config.cache_size\": 2448.0}, hit_rate: 0.9705882361591696\n",
      "[18/100] current_config: {\"implementation\": \"LRU\", \"lru_cache_config.cache_size\": 2584.0}, hit_rate: 0.9047619070294785\n",
      "[19/100] current_config: {\"implementation\": \"LRU\", \"lru_cache_config.cache_size\": 1921.0}, hit_rate: 0.7500000624999844\n",
      "[20/100] current_config: {\"implementation\": \"LRU\", \"lru_cache_config.cache_size\": 507}, hit_rate: 9.99999000001e-07\n",
      "[21/100] current_config: {\"implementation\": \"LRU\", \"lru_cache_config.cache_size\": 3195.0}, hit_rate: 0.95000000125\n",
      "[22/100] current_config: {\"implementation\": \"LRU\", \"lru_cache_config.cache_size\": 2293}, hit_rate: 0.8571428605442176\n",
      "[23/100] current_config: {\"implementation\": \"LRU\", \"lru_cache_config.cache_size\": 1074.0}, hit_rate: 0.5000001249999688\n",
      "[24/100] current_config: {\"implementation\": \"MRU\", \"mru_cache_config.cache_size\": 2199}, hit_rate: 0.8780487834622248\n",
      "[25/100] current_config: {\"implementation\": \"LRU\", \"lru_cache_config.cache_size\": 1029}, hit_rate: 0.6250000468749942\n",
      "[26/100] current_config: {\"implementation\": \"LRU\", \"lru_cache_config.cache_size\": 165}, hit_rate: 0.5000002499998749\n",
      "[27/100] current_config: {\"implementation\": \"MRU\", \"mru_cache_config.cache_size\": 2163}, hit_rate: 0.8648648685171657\n",
      "[28/100] current_config: {\"implementation\": \"MRU\", \"mru_cache_config.cache_size\": 687.0}, hit_rate: 0.5945945982468955\n",
      "[29/100] current_config: {\"implementation\": \"LRU\", \"lru_cache_config.cache_size\": 2751}, hit_rate: 0.906976746349378\n",
      "[30/100] current_config: {\"implementation\": \"MRU\", \"mru_cache_config.cache_size\": 721}, hit_rate: 0.5882353183390988\n",
      "[31/100] current_config: {\"implementation\": \"LRU\", \"lru_cache_config.cache_size\": 3689.0}, hit_rate: 0.8717948750821827\n",
      "[32/100] current_config: {\"implementation\": \"MRU\", \"mru_cache_config.cache_size\": 3708.0}, hit_rate: 0.9142857167346938\n",
      "[33/100] current_config: {\"implementation\": \"LRU\", \"lru_cache_config.cache_size\": 2389.0}, hit_rate: 0.9090909111570248\n",
      "[34/100] current_config: {\"implementation\": \"MRU\", \"mru_cache_config.cache_size\": 1263.0}, hit_rate: 0.7142857176870748\n",
      "[35/100] current_config: {\"implementation\": \"MRU\", \"mru_cache_config.cache_size\": 2841}, hit_rate: 0.872340428248076\n",
      "[36/100] current_config: {\"implementation\": \"LRU\", \"lru_cache_config.cache_size\": 253}, hit_rate: 0.5000001249999688\n",
      "[37/100] current_config: {\"implementation\": \"LRU\", \"lru_cache_config.cache_size\": 875}, hit_rate: 0.5000001249999688\n",
      "[38/100] current_config: {\"implementation\": \"MRU\", \"mru_cache_config.cache_size\": 2953}, hit_rate: 0.8974359000657461\n",
      "[39/100] current_config: {\"implementation\": \"LRU\", \"lru_cache_config.cache_size\": 3381.0}, hit_rate: 0.9459459474068663\n",
      "[40/100] current_config: {\"implementation\": \"LRU\", \"lru_cache_config.cache_size\": 3651}, hit_rate: 0.8000000099999995\n",
      "[41/100] current_config: {\"implementation\": \"MRU\", \"mru_cache_config.cache_size\": 3105}, hit_rate: 0.9142857167346938\n",
      "[42/100] current_config: {\"implementation\": \"LRU\", \"lru_cache_config.cache_size\": 3698}, hit_rate: 0.8636363667355371\n",
      "[43/100] current_config: {\"implementation\": \"LRU\", \"lru_cache_config.cache_size\": 2975}, hit_rate: 0.9000000024999999\n",
      "[44/100] current_config: {\"implementation\": \"MRU\", \"mru_cache_config.cache_size\": 1726.0}, hit_rate: 0.7894736879039704\n",
      "[45/100] current_config: {\"implementation\": \"MRU\", \"mru_cache_config.cache_size\": 1718.0}, hit_rate: 0.7887323973417972\n",
      "[46/100] current_config: {\"implementation\": \"MRU\", \"mru_cache_config.cache_size\": 1723.0}, hit_rate: 0.8301886824492701\n",
      "[47/100] current_config: {\"implementation\": \"LRU\", \"lru_cache_config.cache_size\": 1648.0}, hit_rate: 0.6666666944444422\n",
      "[48/100] current_config: {\"implementation\": \"MRU\", \"mru_cache_config.cache_size\": 1722.0}, hit_rate: 0.7916666753472219\n",
      "[49/100] current_config: {\"implementation\": \"MRU\", \"mru_cache_config.cache_size\": 820}, hit_rate: 0.6403508803477993\n",
      "[50/100] current_config: {\"implementation\": \"LRU\", \"lru_cache_config.cache_size\": 3251}, hit_rate: 0.8974359000657461\n",
      "[51/100] current_config: {\"implementation\": \"MRU\", \"mru_cache_config.cache_size\": 2097}, hit_rate: 0.8787878824609734\n",
      "[52/100] current_config: {\"implementation\": \"MRU\", \"mru_cache_config.cache_size\": 3621}, hit_rate: 0.9166666689814814\n",
      "[53/100] current_config: {\"implementation\": \"LRU\", \"lru_cache_config.cache_size\": 3172}, hit_rate: 0.8780487834622248\n",
      "[54/100] current_config: {\"implementation\": \"MRU\", \"mru_cache_config.cache_size\": 383}, hit_rate: 0.5454545513577331\n",
      "[55/100] current_config: {\"implementation\": \"MRU\", \"mru_cache_config.cache_size\": 1715.0}, hit_rate: 0.8181818214876032\n",
      "[56/100] current_config: {\"implementation\": \"MRU\", \"mru_cache_config.cache_size\": 1714.0}, hit_rate: 0.8253968281683043\n",
      "[57/100] current_config: {\"implementation\": \"LRU\", \"lru_cache_config.cache_size\": 1781}, hit_rate: 0.5555556049382662\n",
      "[58/100] current_config: {\"implementation\": \"LRU\", \"lru_cache_config.cache_size\": 3757}, hit_rate: 0.8636363698347105\n",
      "[59/100] current_config: {\"implementation\": \"MRU\", \"mru_cache_config.cache_size\": 1723.0}, hit_rate: 0.8400000031999999\n",
      "[60/100] current_config: {\"implementation\": \"MRU\", \"mru_cache_config.cache_size\": 3020}, hit_rate: 0.877551022907122\n",
      "[61/100] current_config: {\"implementation\": \"MRU\", \"mru_cache_config.cache_size\": 217}, hit_rate: 0.5192307738535502\n",
      "[62/100] current_config: {\"implementation\": \"LRU\", \"lru_cache_config.cache_size\": 1615}, hit_rate: 0.6250000468749942\n",
      "[63/100] current_config: {\"implementation\": \"MRU\", \"mru_cache_config.cache_size\": 1715.0}, hit_rate: 0.8431372579777008\n",
      "[64/100] current_config: {\"implementation\": \"MRU\", \"mru_cache_config.cache_size\": 1991}, hit_rate: 0.8837209329367225\n",
      "[65/100] current_config: {\"implementation\": \"LRU\", \"lru_cache_config.cache_size\": 3601.0}, hit_rate: 0.901960786236063\n",
      "[66/100] current_config: {\"implementation\": \"MRU\", \"mru_cache_config.cache_size\": 283}, hit_rate: 0.5294117693194924\n",
      "[67/100] current_config: {\"implementation\": \"LRU\", \"lru_cache_config.cache_size\": 968}, hit_rate: 9.99999000001e-07\n",
      "[68/100] current_config: {\"implementation\": \"LRU\", \"lru_cache_config.cache_size\": 3641.0}, hit_rate: 0.9166666689814814\n",
      "[69/100] current_config: {\"implementation\": \"LRU\", \"lru_cache_config.cache_size\": 3654.0}, hit_rate: 0.9375000013020833\n",
      "[70/100] current_config: {\"implementation\": \"LRU\", \"lru_cache_config.cache_size\": 3582.0}, hit_rate: 0.72222223765432\n"
     ]
    },
    {
     "name": "stdout",
     "output_type": "stream",
     "text": [
      "[71/100] current_config: {\"implementation\": \"MRU\", \"mru_cache_config.cache_size\": 3391}, hit_rate: 0.854166669704861\n",
      "[72/100] current_config: {\"implementation\": \"LRU\", \"lru_cache_config.cache_size\": 3583.0}, hit_rate: 0.8888888913580246\n",
      "[73/100] current_config: {\"implementation\": \"LRU\", \"lru_cache_config.cache_size\": 3646.0}, hit_rate: 0.9210526336565097\n",
      "[74/100] current_config: {\"implementation\": \"LRU\", \"lru_cache_config.cache_size\": 3577}, hit_rate: 0.8409090945247933\n",
      "[75/100] current_config: {\"implementation\": \"MRU\", \"mru_cache_config.cache_size\": 2267}, hit_rate: 0.8974359000657461\n",
      "[76/100] current_config: {\"implementation\": \"LRU\", \"lru_cache_config.cache_size\": 3536.0}, hit_rate: 0.9302325597620335\n",
      "[77/100] current_config: {\"implementation\": \"LRU\", \"lru_cache_config.cache_size\": 2512}, hit_rate: 0.7500000124999993\n",
      "[78/100] current_config: {\"implementation\": \"LRU\", \"lru_cache_config.cache_size\": 3579.0}, hit_rate: 0.8684210560941827\n",
      "[79/100] current_config: {\"implementation\": \"LRU\", \"lru_cache_config.cache_size\": 1539.0}, hit_rate: 0.6000000799999841\n",
      "[80/100] current_config: {\"implementation\": \"MRU\", \"mru_cache_config.cache_size\": 250}, hit_rate: 0.5196850431520863\n",
      "[81/100] current_config: {\"implementation\": \"MRU\", \"mru_cache_config.cache_size\": 3371}, hit_rate: 0.9189189211102994\n",
      "[82/100] current_config: {\"implementation\": \"MRU\", \"mru_cache_config.cache_size\": 264}, hit_rate: 0.5178571471619897\n",
      "[83/100] current_config: {\"implementation\": \"LRU\", \"lru_cache_config.cache_size\": 2816}, hit_rate: 0.8750000026041667\n",
      "[84/100] current_config: {\"implementation\": \"LRU\", \"lru_cache_config.cache_size\": 2242}, hit_rate: 0.869565220226843\n",
      "[85/100] current_config: {\"implementation\": \"MRU\", \"mru_cache_config.cache_size\": 3252}, hit_rate: 0.9000000024999999\n",
      "[86/100] current_config: {\"implementation\": \"MRU\", \"mru_cache_config.cache_size\": 3705}, hit_rate: 0.9056603791384834\n",
      "[87/100] current_config: {\"implementation\": \"MRU\", \"mru_cache_config.cache_size\": 583}, hit_rate: 0.5804195833537092\n",
      "[88/100] current_config: {\"implementation\": \"MRU\", \"mru_cache_config.cache_size\": 15}, hit_rate: 0.4956521782986767\n",
      "[89/100] current_config: {\"implementation\": \"LRU\", \"lru_cache_config.cache_size\": 2720}, hit_rate: 0.9393939412304867\n",
      "[90/100] current_config: {\"implementation\": \"LRU\", \"lru_cache_config.cache_size\": 1631.0}, hit_rate: 0.5000002499998749\n",
      "[91/100] current_config: {\"implementation\": \"LRU\", \"lru_cache_config.cache_size\": 1581.0}, hit_rate: 0.7727272830578508\n",
      "[92/100] current_config: {\"implementation\": \"LRU\", \"lru_cache_config.cache_size\": 1605.0}, hit_rate: 0.5714286326530524\n",
      "[93/100] current_config: {\"implementation\": \"LRU\", \"lru_cache_config.cache_size\": 3563}, hit_rate: 0.8863636389462809\n",
      "[94/100] current_config: {\"implementation\": \"LRU\", \"lru_cache_config.cache_size\": 1615.0}, hit_rate: 4.99999750000125e-07\n",
      "[95/100] current_config: {\"implementation\": \"LRU\", \"lru_cache_config.cache_size\": 710}, hit_rate: 4.99999750000125e-07\n",
      "[96/100] current_config: {\"implementation\": \"LRU\", \"lru_cache_config.cache_size\": 1604.0}, hit_rate: 0.5000001249999688\n",
      "[97/100] current_config: {\"implementation\": \"LRU\", \"lru_cache_config.cache_size\": 1574.0}, hit_rate: 0.5000001249999688\n",
      "[98/100] current_config: {\"implementation\": \"MRU\", \"mru_cache_config.cache_size\": 2461}, hit_rate: 0.860465119524067\n",
      "[99/100] current_config: {\"implementation\": \"LRU\", \"lru_cache_config.cache_size\": 1523.0}, hit_rate: 0.6923077159763296\n",
      "[100/100] current_config: {\"implementation\": \"LRU\", \"lru_cache_config.cache_size\": 3577}, hit_rate: 0.8000000133333325\n"
     ]
    },
    {
     "data": {
      "text/html": [
       "<div>\n",
       "<style scoped>\n",
       "    .dataframe tbody tr th:only-of-type {\n",
       "        vertical-align: middle;\n",
       "    }\n",
       "\n",
       "    .dataframe tbody tr th {\n",
       "        vertical-align: top;\n",
       "    }\n",
       "\n",
       "    .dataframe thead th {\n",
       "        text-align: right;\n",
       "    }\n",
       "</style>\n",
       "<table border=\"1\" class=\"dataframe\">\n",
       "  <thead>\n",
       "    <tr style=\"text-align: right;\">\n",
       "      <th></th>\n",
       "      <th>implementation</th>\n",
       "      <th>lru_cache_config.cache_size</th>\n",
       "      <th>mru_cache_config.cache_size</th>\n",
       "      <th>hit_rate</th>\n",
       "    </tr>\n",
       "  </thead>\n",
       "  <tbody>\n",
       "    <tr>\n",
       "      <th>0</th>\n",
       "      <td>LRU</td>\n",
       "      <td>3644.0</td>\n",
       "      <td>NaN</td>\n",
       "      <td>0.902439</td>\n",
       "    </tr>\n",
       "    <tr>\n",
       "      <th>1</th>\n",
       "      <td>MRU</td>\n",
       "      <td>NaN</td>\n",
       "      <td>629.0</td>\n",
       "      <td>0.609756</td>\n",
       "    </tr>\n",
       "    <tr>\n",
       "      <th>2</th>\n",
       "      <td>LRU</td>\n",
       "      <td>836.0</td>\n",
       "      <td>NaN</td>\n",
       "      <td>0.500000</td>\n",
       "    </tr>\n",
       "    <tr>\n",
       "      <th>3</th>\n",
       "      <td>LRU</td>\n",
       "      <td>95.0</td>\n",
       "      <td>NaN</td>\n",
       "      <td>0.166667</td>\n",
       "    </tr>\n",
       "    <tr>\n",
       "      <th>4</th>\n",
       "      <td>LRU</td>\n",
       "      <td>1417.0</td>\n",
       "      <td>NaN</td>\n",
       "      <td>0.333334</td>\n",
       "    </tr>\n",
       "    <tr>\n",
       "      <th>...</th>\n",
       "      <td>...</td>\n",
       "      <td>...</td>\n",
       "      <td>...</td>\n",
       "      <td>...</td>\n",
       "    </tr>\n",
       "    <tr>\n",
       "      <th>95</th>\n",
       "      <td>LRU</td>\n",
       "      <td>1604.0</td>\n",
       "      <td>NaN</td>\n",
       "      <td>0.500000</td>\n",
       "    </tr>\n",
       "    <tr>\n",
       "      <th>96</th>\n",
       "      <td>LRU</td>\n",
       "      <td>1574.0</td>\n",
       "      <td>NaN</td>\n",
       "      <td>0.500000</td>\n",
       "    </tr>\n",
       "    <tr>\n",
       "      <th>97</th>\n",
       "      <td>MRU</td>\n",
       "      <td>NaN</td>\n",
       "      <td>2461.0</td>\n",
       "      <td>0.860465</td>\n",
       "    </tr>\n",
       "    <tr>\n",
       "      <th>98</th>\n",
       "      <td>LRU</td>\n",
       "      <td>1523.0</td>\n",
       "      <td>NaN</td>\n",
       "      <td>0.692308</td>\n",
       "    </tr>\n",
       "    <tr>\n",
       "      <th>99</th>\n",
       "      <td>LRU</td>\n",
       "      <td>3577.0</td>\n",
       "      <td>NaN</td>\n",
       "      <td>0.800000</td>\n",
       "    </tr>\n",
       "  </tbody>\n",
       "</table>\n",
       "<p>100 rows × 4 columns</p>\n",
       "</div>"
      ],
      "text/plain": [
       "   implementation  lru_cache_config.cache_size  mru_cache_config.cache_size  \\\n",
       "0             LRU                       3644.0                          NaN   \n",
       "1             MRU                          NaN                        629.0   \n",
       "2             LRU                        836.0                          NaN   \n",
       "3             LRU                         95.0                          NaN   \n",
       "4             LRU                       1417.0                          NaN   \n",
       "..            ...                          ...                          ...   \n",
       "95            LRU                       1604.0                          NaN   \n",
       "96            LRU                       1574.0                          NaN   \n",
       "97            MRU                          NaN                       2461.0   \n",
       "98            LRU                       1523.0                          NaN   \n",
       "99            LRU                       3577.0                          NaN   \n",
       "\n",
       "    hit_rate  \n",
       "0   0.902439  \n",
       "1   0.609756  \n",
       "2   0.500000  \n",
       "3   0.166667  \n",
       "4   0.333334  \n",
       "..       ...  \n",
       "95  0.500000  \n",
       "96  0.500000  \n",
       "97  0.860465  \n",
       "98  0.692308  \n",
       "99  0.800000  \n",
       "\n",
       "[100 rows x 4 columns]"
      ]
     },
     "execution_count": 127,
     "metadata": {},
     "output_type": "execute_result"
    }
   ],
   "source": [
    "SmartCache.parameter_search_space\n",
    "\n",
    "# Optimization Problem\n",
    "#\n",
    "optimization_problem = OptimizationProblem(\n",
    "    parameter_space=SmartCache.parameter_search_space,\n",
    "    objective_space=SimpleHypergrid(\n",
    "        name=\"objectives\", \n",
    "        dimensions=[ContinuousDimension(name=\"hit_rate\", min=0, max=1)]),\n",
    "    objectives=[Objective(name=\"hit_rate\", minimize=False)]\n",
    ")\n",
    "\n",
    "# create an optimizer proxy that connects to the remote optimizer via grpc:\n",
    "optimizer = bayesian_optimizer_factory.create_remote_optimizer(\n",
    "    optimization_problem=optimization_problem,\n",
    "#     optimizer_config=optimizer_config\n",
    ")\n",
    "\n",
    "\n",
    "workload_launcher = SmartCacheWorkloadLauncher(\n",
    "    logger=logger\n",
    ")\n",
    "mlos_agent = workload_launcher.mlos_agent\n",
    "\n",
    "mlos_agent.set_configuration(\n",
    "    component_type=SmartCacheWorkloadGenerator,\n",
    "    new_config_values=Point(\n",
    "        workload_type='fibonacci',\n",
    "        fibonacci_config=Point(\n",
    "            min=0,\n",
    "            range_width=2048\n",
    "        )\n",
    "    )\n",
    ")\n",
    "\n",
    "\n",
    "hit_rate_monitor = HitRateMonitor()\n",
    "smart_cache_experiment = MlosExperiment(\n",
    "    smart_component_types=[SmartCache],\n",
    "    telemetry_aggregators=[hit_rate_monitor]\n",
    ")\n",
    "mlos_agent.start_experiment(smart_cache_experiment)\n",
    "\n",
    "num_iterations = 100\n",
    "data = []\n",
    "for i in range(num_iterations):\n",
    "    # suggest runs a 'cheap' search on the surrogate model to find a good candidate configuration\n",
    "    new_config_values = optimizer.suggest()\n",
    "    # set_configuration communicates the proposed configuration to the SmartCache\n",
    "    mlos_agent.set_configuration(component_type=SmartCache, new_config_values=new_config_values)\n",
    "    hit_rate_monitor.reset()\n",
    "    # start_workload will actually run the worker, here for 0.2 seconds\n",
    "    workload_launcher.start_workload(duration_s=0.2, block=True)\n",
    "    # obtain hit-rate as quality measure for configuration\n",
    "    hit_rate = hit_rate_monitor.get_hit_rate()\n",
    "    objectives_df = pd.DataFrame({'hit_rate': [hit_rate]})\n",
    "    # pass configuration and observed hit-rate to the optimizer to update the surrogate model\n",
    "    features_df = new_config_values.to_dataframe()\n",
    "    optimizer.register(features_df, objectives_df)\n",
    "    data.append((features_df, objectives_df))\n",
    "    print(f\"[{i+1}/{num_iterations}] current_config: {new_config_values}, hit_rate: {hit_rate}\")\n",
    "    \n",
    "# some pandas wrangling\n",
    "features, targets = zip(*data)\n",
    "df = pd.concat(features, ignore_index=True)\n",
    "df['hit_rate'] = pd.concat(targets, ignore_index=True)\n",
    "df\n",
    "\n"
   ]
  },
  {
   "cell_type": "code",
   "execution_count": 128,
   "metadata": {},
   "outputs": [
    {
     "data": {
      "text/plain": [
       "<matplotlib.legend.Legend at 0x7fdf30c08978>"
      ]
     },
     "execution_count": 128,
     "metadata": {},
     "output_type": "execute_result"
    },
    {
     "data": {
      "image/png": "[encoded data removed]",
      "text/plain": [
       "<Figure size 432x288 with 1 Axes>"
      ]
     },
     "metadata": {
      "needs_background": "light"
     },
     "output_type": "display_data"
    }
   ],
   "source": [
    "# group by implementation, then plot\n",
    "lru_data, mru_data = df.groupby('implementation')\n",
    "\n",
    "import matplotlib.pyplot as plt\n",
    "line_lru = lru_data[1].plot(x='lru_cache_config.cache_size', y='hit_rate', label='LRU', marker='o', linestyle='none', alpha=.6)\n",
    "mru_data[1].plot(x='mru_cache_config.cache_size', y='hit_rate', label='MRU', marker='o', linestyle='none', alpha=.6, ax=plt.gca())\n",
    "plt.ylabel(\"Cache hitrate\")\n",
    "plt.xlabel(\"Cache Size\")\n",
    "plt.legend()"
   ]
  },
  {
   "cell_type": "code",
   "execution_count": 129,
   "metadata": {},
   "outputs": [
    {
     "data": {
      "text/plain": [
       "Text(0.5, 0, 'Iteration Number')"
      ]
     },
     "execution_count": 129,
     "metadata": {},
     "output_type": "execute_result"
    },
    {
     "data": {
      "image/png": "[encoded data removed]",
      "text/plain": [
       "<Figure size 432x288 with 1 Axes>"
      ]
     },
     "metadata": {
      "needs_background": "light"
     },
     "output_type": "display_data"
    }
   ],
   "source": [
    "from functools import reduce\n",
    "optimum_values = df['hit_rate']\n",
    "a = reduce(lambda x,y: x + [x[-1]] if x[-1] > y else x + [y], optimum_values, [0])\n",
    "b = list(a)\n",
    "# group by implementation, then plot\n",
    "plt.plot(b)\n",
    "plt.ylim(0.9, 1)\n",
    "plt.ylabel(\"Cache hitrate\")\n",
    "plt.xlabel(\"Iteration Number\")"
   ]
  },
  {
   "cell_type": "code",
   "execution_count": null,
   "metadata": {},
   "outputs": [],
   "source": []
  },
  {
   "cell_type": "markdown",
   "metadata": {},
   "source": [
    "# Clean up\n",
    "We need to stop all processes & separate threads after running the experiments:"
   ]
  },
  {
   "cell_type": "code",
   "execution_count": 12,
   "metadata": {},
   "outputs": [],
   "source": [
    "# Clean up\n",
    "#\n",
    "mlos_agent.stop_experiment(smart_cache_experiment)\n",
    "mlos_agent.stop_all()\n",
    "\n",
    "# Stop the optimizer service\n",
    "import signal\n",
    "optimizer_microservice.send_signal(signal.SIGTERM)"
   ]
  },
  {
   "cell_type": "code",
   "execution_count": null,
   "metadata": {},
   "outputs": [],
   "source": []
  }
 ],
 "metadata": {
  "kernelspec": {
   "display_name": "Python 3",
   "language": "python",
   "name": "python3"
  },
  "language_info": {
   "codemirror_mode": {
    "name": "ipython",
    "version": 3
   },
   "file_extension": ".py",
   "mimetype": "text/x-python",
   "name": "python",
   "nbconvert_exporter": "python",
   "pygments_lexer": "ipython3",
   "version": "3.6.12"
  }
 },
 "nbformat": 4,
 "nbformat_minor": 4
}
